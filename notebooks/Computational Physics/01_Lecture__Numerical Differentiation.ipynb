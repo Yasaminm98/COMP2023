{
    "cells": [
        {
            "cell_type": "markdown",
            "metadata": {},
            "source": [
                "A primer on numerical differentiation\n",
                "========================\n",
                "\n",
                "In order to numerically evaluate a derivative $y'(x)=dy/dx$ at point $x_0$, we approximate is by using finite differences:\n",
                "Therefore we find: \n",
                "\n",
                "$dx \\approx \\Delta x =x_1-x_0$\n",
                "\n",
                "$dy \\approx \\Delta y =y_1-y_0= y(x_1)-y(x_0) = y(x_0+\\Delta_x)-y(x_0)$\n",
                "\n",
                "Then we re-write the derivative in terms of discrete differences as:\n",
                "$$\\frac{dy}{dx} \\approx \\frac{\\Delta y}{\\Delta x}$$\n",
                "\n",
                "#### Example\n",
                "\n",
                "Let's look at the accuracy of this approximation in terms of the interval $\\Delta x$. In our first example we will evaluate the derivative of $y=x^2$ at $x=1$."
            ]
        },
        {
            "cell_type": "code",
            "execution_count": 7,
            "metadata": {},
            "outputs": [
                {
                    "name": "stdout",
                    "output_type": "stream",
                    "text": [
                        "dx =   1.0000000000000000, d =   3.0000000000000000, err =   1.0000000000000000\n",
                        "dx =   0.1000000000000000, d =   2.1000000000000019, err =   0.1000000000000019\n",
                        "dx =   0.0100000000000000, d =   2.0100000000000007, err =   0.0100000000000007\n",
                        "dx =   0.0010000000000000, d =   2.0009999999996975, err =   0.0009999999996975\n",
                        "dx =   0.0001000000000000, d =   2.0000999999991720, err =   0.0000999999991720\n",
                        "dx =   0.0000100000000000, d =   2.0000100000139298, err =   0.0000100000139298\n",
                        "dx =   0.0000010000000000, d =   2.0000009999243669, err =   0.0000009999243669\n",
                        "dx =   0.0000001000000000, d =   2.0000001010878061, err =   0.0000001010878061\n",
                        "dx =   0.0000000100000000, d =   1.9999999878450576, err =  -0.0000000121549424\n",
                        "dx =   0.0000000010000000, d =   2.0000001654807416, err =   0.0000001654807416\n",
                        "dx =   0.0000000001000000, d =   2.0000001654807416, err =   0.0000001654807416\n"
                    ]
                }
            ],
            "source": [
                "dx, x = 1, 1\n",
                "while(dx > 1e-10):\n",
                "    dy = (x+dx)**2 - x**2\n",
                "    d = dy / dx\n",
                "    print(\"dx = %20.16f, d = %20.16f, err = %20.16f\" % (dx, d, d-2))\n",
                "    dx = dx / 10"
            ]
        },
        {
            "cell_type": "markdown",
            "metadata": {},
            "source": [
                "Why is it that the sequence does not converge? This is due to the round-off errors in the representation of the floating point numbers. To see this, we can simply type:"
            ]
        },
        {
            "cell_type": "code",
            "execution_count": 8,
            "metadata": {},
            "outputs": [
                {
                    "data": {
                        "text/plain": [
                            "0.0002000099999999172"
                        ]
                    },
                    "execution_count": 8,
                    "metadata": {},
                    "output_type": "execute_result"
                }
            ],
            "source": [
                "((1+0.0001)*(1+0.0001) - 1*1)"
            ]
        },
        {
            "cell_type": "markdown",
            "metadata": {},
            "source": [
                "Let's try using powers of 1/2"
            ]
        },
        {
            "cell_type": "code",
            "execution_count": 9,
            "metadata": {},
            "outputs": [
                {
                    "name": "stdout",
                    "output_type": "stream",
                    "text": [
                        "dx =   1.0000000000000000, d =   3.0000000000000000, err =   1.0000000000000000\n",
                        "dx =   0.5000000000000000, d =   2.5000000000000000, err =   0.5000000000000000\n",
                        "dx =   0.2500000000000000, d =   2.2500000000000000, err =   0.2500000000000000\n",
                        "dx =   0.1250000000000000, d =   2.1250000000000000, err =   0.1250000000000000\n",
                        "dx =   0.0625000000000000, d =   2.0625000000000000, err =   0.0625000000000000\n",
                        "dx =   0.0312500000000000, d =   2.0312500000000000, err =   0.0312500000000000\n",
                        "dx =   0.0156250000000000, d =   2.0156250000000000, err =   0.0156250000000000\n",
                        "dx =   0.0078125000000000, d =   2.0078125000000000, err =   0.0078125000000000\n",
                        "dx =   0.0039062500000000, d =   2.0039062500000000, err =   0.0039062500000000\n",
                        "dx =   0.0019531250000000, d =   2.0019531250000000, err =   0.0019531250000000\n",
                        "dx =   0.0009765625000000, d =   2.0009765625000000, err =   0.0009765625000000\n",
                        "dx =   0.0004882812500000, d =   2.0004882812500000, err =   0.0004882812500000\n",
                        "dx =   0.0002441406250000, d =   2.0002441406250000, err =   0.0002441406250000\n",
                        "dx =   0.0001220703125000, d =   2.0001220703125000, err =   0.0001220703125000\n",
                        "dx =   0.0000610351562500, d =   2.0000610351562500, err =   0.0000610351562500\n",
                        "dx =   0.0000305175781250, d =   2.0000305175781250, err =   0.0000305175781250\n",
                        "dx =   0.0000152587890625, d =   2.0000152587890625, err =   0.0000152587890625\n",
                        "dx =   0.0000076293945312, d =   2.0000076293945312, err =   0.0000076293945312\n",
                        "dx =   0.0000038146972656, d =   2.0000038146972656, err =   0.0000038146972656\n",
                        "dx =   0.0000019073486328, d =   2.0000019073486328, err =   0.0000019073486328\n",
                        "dx =   0.0000009536743164, d =   2.0000009536743164, err =   0.0000009536743164\n",
                        "dx =   0.0000004768371582, d =   2.0000004768371582, err =   0.0000004768371582\n",
                        "dx =   0.0000002384185791, d =   2.0000002384185791, err =   0.0000002384185791\n",
                        "dx =   0.0000001192092896, d =   2.0000001192092896, err =   0.0000001192092896\n",
                        "dx =   0.0000000596046448, d =   2.0000000596046448, err =   0.0000000596046448\n",
                        "dx =   0.0000000298023224, d =   2.0000000298023224, err =   0.0000000298023224\n",
                        "dx =   0.0000000149011612, d =   2.0000000149011612, err =   0.0000000149011612\n",
                        "dx =   0.0000000074505806, d =   2.0000000000000000, err =   0.0000000000000000\n",
                        "dx =   0.0000000037252903, d =   2.0000000000000000, err =   0.0000000000000000\n",
                        "dx =   0.0000000018626451, d =   2.0000000000000000, err =   0.0000000000000000\n",
                        "dx =   0.0000000009313226, d =   2.0000000000000000, err =   0.0000000000000000\n",
                        "dx =   0.0000000004656613, d =   2.0000000000000000, err =   0.0000000000000000\n",
                        "dx =   0.0000000002328306, d =   2.0000000000000000, err =   0.0000000000000000\n",
                        "dx =   0.0000000001164153, d =   2.0000000000000000, err =   0.0000000000000000\n"
                    ]
                }
            ],
            "source": [
                "dx, x = 1, 1\n",
                "while(dx > 1e-10):\n",
                "    dy = (x+dx)**2 - x**2\n",
                "    d = dy / dx\n",
                "    print(\"dx = %20.16f, d = %20.16f, err = %20.16f\" % (dx, d, d-2))\n",
                "    dx = dx / 2"
            ]
        },
        {
            "cell_type": "markdown",
            "metadata": {},
            "source": [
                "In addition, one could consider the midpoint difference, defined as:\n",
                "$$ dy \\approx \\Delta y = y(x_0+\\frac{\\Delta_x}{2})-y(x_0-\\frac{\\Delta_x}{2}).$$\n",
                "\n",
                "For a more complex function we need to import it from the math module. For instance, let's calculate the derivative of $sin(x)$ at $x=\\pi/4$, including both the forward and midpoint differences."
            ]
        },
        {
            "cell_type": "code",
            "execution_count": 19,
            "metadata": {},
            "outputs": [
                {
                    "name": "stdout",
                    "output_type": "stream",
                    "text": [
                        "1.00000e+00   0.2699544827129282  -0.4371522984736194   0.6780100988420897  -0.0290966823444578\n",
                        "5.00000e-01   0.5048856975964859  -0.2022210835900616   0.6997640691250939  -0.0073427120614536\n",
                        "2.50000e-01   0.6118351194488110  -0.0952716617377366   0.7052667953545546  -0.0018399858319930\n",
                        "1.25000e-01   0.6611301360648314  -0.0459766451217162   0.7066465151141266  -0.0004602660724210\n",
                        "6.25000e-02   0.6845566203276618  -0.0225501608588857   0.7069916978116630  -0.0001150833748845\n",
                        "3.12500e-02   0.6959440534591259  -0.0111627277274217   0.7070780092891873  -0.0000287718973603\n",
                        "1.56250e-02   0.7015538499518499  -0.0055529312346977   0.7070995881463489  -0.0000071930401987\n",
                        "7.81250e-03   0.7043374663312676  -0.0027693148552800   0.7071049829223881  -0.0000017982641595\n",
                        "3.90625e-03   0.7057239167465070  -0.0013828644400405   0.7071063316202526  -0.0000004495662950\n",
                        "1.95312e-03   0.7064157978737740  -0.0006909833127736   0.7071066687949497  -0.0000001123915979\n",
                        "9.76562e-04   0.7067614018394579  -0.0003453793470897   0.7071067530886239  -0.0000000280979237\n",
                        "4.88281e-04   0.7069341196006462  -0.0001726615859013   0.7071067741621846  -0.0000000070243630\n",
                        "2.44141e-04   0.7070204574170020  -0.0000863237695455   0.7071067794304327  -0.0000000017561149\n",
                        "1.22070e-04   0.7070636210582961  -0.0000431601282515   0.7071067807473810  -0.0000000004391666\n",
                        "6.10352e-05   0.7070852015622222  -0.0000215796243254   0.7071067810775276  -0.0000000001090200\n",
                        "3.05176e-05   0.7070959914854029  -0.0000107897011447   0.7071067811593821  -0.0000000000271655\n",
                        "1.52588e-05   0.7071013863678672  -0.0000053948186803   0.7071067811775720  -0.0000000000089756\n",
                        "7.62939e-06   0.7071040837763576  -0.0000026974101900   0.7071067811775720  -0.0000000000089756\n",
                        "3.81470e-06   0.7071054324915167  -0.0000013486950309   0.7071067811921239   0.0000000000055763\n",
                        "1.90735e-06   0.7071061068563722  -0.0000006743301754   0.7071067811921239   0.0000000000055763\n",
                        "9.53674e-07   0.7071064440533519  -0.0000003371331957   0.7071067811921239   0.0000000000055763\n",
                        "4.76837e-07   0.7071066126227379  -0.0000001685638097   0.7071067811921239   0.0000000000055763\n",
                        "2.38419e-07   0.7071066969074309  -0.0000000842791167   0.7071067811921239   0.0000000000055763\n",
                        "1.19209e-07   0.7071067392826080  -0.0000000419039395   0.7071067811921239   0.0000000000055763\n",
                        "5.96046e-08   0.7071067616343498  -0.0000000195521977   0.7071067821234465   0.0000000009368989\n",
                        "2.98023e-08   0.7071067728102207  -0.0000000083763269   0.7071067802608013  -0.0000000009257463\n",
                        "1.49012e-08   0.7071067765355110  -0.0000000046510366   0.7071067765355110  -0.0000000046510366\n",
                        "7.45058e-09   0.7071067839860916   0.0000000027995440   0.7071067839860916   0.0000000027995440\n",
                        "3.72529e-09   0.7071067988872528   0.0000000177007052   0.7071067690849304  -0.0000000121016172\n",
                        "1.86265e-09   0.7071067690849304  -0.0000000121016172   0.7071067690849304  -0.0000000121016172\n",
                        "9.31323e-10   0.7071068286895752   0.0000000475030276   0.7071067094802856  -0.0000000717062619\n",
                        "4.65661e-10   0.7071068286895752   0.0000000475030276   0.7071068286895752   0.0000000475030276\n",
                        "2.32831e-10   0.7071070671081543   0.0000002859216067   0.7071070671081543   0.0000002859216067\n",
                        "1.16415e-10   0.7071075439453125   0.0000007627587649   0.7071065902709961  -0.0000001909155515\n"
                    ]
                }
            ],
            "source": [
                "from math import sin, sqrt, pi\n",
                "dx = 1.\n",
                "while(dx > 1.e-10):\n",
                "    x = pi/4.\n",
                "    d1 = sin(x+dx) - sin(x) # \"forward\" difference\n",
                "    d2 = sin(x+dx/2.) - sin(x-dx/2.) # \"central\" difference\n",
                "    d1, d2 = d1 / dx, d2 / dx \n",
                "    print(\"%8.5e %20.16f %20.16f %20.16f %20.16f\" % (dx, d1, d1-sqrt(2)/2, d2, d2-sqrt(2)/2))\n",
                "    dx = dx / 2"
            ]
        },
        {
            "cell_type": "markdown",
            "metadata": {},
            "source": [
                "What do you notice? Which one does better?"
            ]
        },
        {
            "cell_type": "markdown",
            "metadata": {},
            "source": [
                "A more in-depth discussion about round-off errors in numerical differentiation can be found <a href=\"http://www.uio.no/studier/emner/matnat/math/MAT-INF1100/h10/kompendiet/kap11.pdf\">here</a>"
            ]
        },
        {
            "cell_type": "markdown",
            "metadata": {},
            "source": [
                "### Special functions in **numpy**\n",
                "\n",
                "numpy provides a simple method **diff()** to calculate the numerical derivatives of a dataset stored in an array by forward differences. The function **gradient()** will calculate the derivatives by midpoint (or central) difference, that provides a more accurate result. "
            ]
        },
        {
            "cell_type": "code",
            "execution_count": 30,
            "metadata": {},
            "outputs": [
                {
                    "data": {
                        "text/plain": [
                            "array([0, 1, 2, 3, 4, 5, 6, 7, 8, 9])"
                        ]
                    },
                    "execution_count": 30,
                    "metadata": {},
                    "output_type": "execute_result"
                }
            ],
            "source": [
                "x1"
            ]
        },
        {
            "cell_type": "code",
            "execution_count": 32,
            "metadata": {},
            "outputs": [
                {
                    "name": "stdout",
                    "output_type": "stream",
                    "text": [
                        "[ 1.  2.  4.  6.  8. 10. 12. 14. 16. 17.]\n"
                    ]
                },
                {
                    "data": {
                        "text/plain": [
                            "[<matplotlib.lines.Line2D at 0x13a56cbd0>]"
                        ]
                    },
                    "execution_count": 32,
                    "metadata": {},
                    "output_type": "execute_result"
                },
                {
                    "data": {
                        "image/png": "[encoded data removed]",
                        "text/plain": [
                            "<Figure size 640x480 with 1 Axes>"
                        ]
                    },
                    "metadata": {},
                    "output_type": "display_data"
                }
            ],
            "source": [
                "import numpy as np \n",
                "from matplotlib import pyplot as plt\n",
                "\n",
                "y = lambda x: x**2 \n",
                "\n",
                "x1 = np.arange(0, 10, 1)\n",
                "\n",
                "y1 = np.gradient(y(x1))\n",
                "print(y1)\n",
                "\n",
                "plt.plot(x1, np.gradient(y(x1)))"
            ]
        },
        {
            "cell_type": "code",
            "execution_count": 25,
            "metadata": {},
            "outputs": [
                {
                    "data": {
                        "text/plain": [
                            "array([ 0.,  2.,  4.,  6.,  8., 10.])"
                        ]
                    },
                    "execution_count": 25,
                    "metadata": {},
                    "output_type": "execute_result"
                }
            ],
            "source": [
                "x1"
            ]
        },
        {
            "cell_type": "markdown",
            "metadata": {},
            "source": [
                "Notice above that **gradient()** uses forward and backward differences at the two ends."
            ]
        },
        {
            "cell_type": "code",
            "execution_count": null,
            "metadata": {},
            "outputs": [],
            "source": []
        },
        {
            "cell_type": "markdown",
            "metadata": {},
            "source": [
                "More discussion about numerical differentiation, including higher order methods with error extrapolation can be found <a href=\"http://young.physics.ucsc.edu/115/diff.pdf\">here</a>. \n",
                "\n",
                "The module **scipy** also includes methods to accurately calculate derivatives:"
            ]
        },
        {
            "cell_type": "code",
            "execution_count": 36,
            "metadata": {},
            "outputs": [
                {
                    "name": "stdout",
                    "output_type": "stream",
                    "text": [
                        "dx =   1.0000000000000000, d =   2.0000000000000000, err =   0.0000000000000000\n",
                        "dx =   0.1000000000000000, d =   2.0000000000000004, err =   0.0000000000000004\n",
                        "dx =   0.0100000000000000, d =   2.0000000000000018, err =   0.0000000000000018\n",
                        "dx =   0.0010000000000000, d =   1.9999999999998352, err =  -0.0000000000001648\n",
                        "dx =   0.0001000000000000, d =   1.9999999999992246, err =  -0.0000000000007754\n",
                        "dx =   0.0000100000000000, d =   2.0000000000020002, err =   0.0000000000020002\n",
                        "dx =   0.0000010000000000, d =   2.0000000000019997, err =   0.0000000000019997\n",
                        "dx =   0.0000001000000000, d =   2.0000000000575109, err =   0.0000000000575109\n",
                        "dx =   0.0000000100000000, d =   1.9999999933961727, err =  -0.0000000066038273\n",
                        "dx =   0.0000000010000000, d =   2.0000000544584391, err =   0.0000000544584391\n",
                        "dx =   0.0000000001000000, d =   2.0000001654807416, err =   0.0000001654807416\n"
                    ]
                },
                {
                    "name": "stderr",
                    "output_type": "stream",
                    "text": [
                        "/var/folders/wz/s4rx21_137g79thgtc1s1k3m0000gn/T/ipykernel_2109/12657976.py:8: DeprecationWarning: scipy.misc.derivative is deprecated in SciPy v1.10.0; and will be completely removed in SciPy v1.12.0. You may consider using findiff: https://github.com/maroba/findiff or numdifftools: https://github.com/pbrod/numdifftools\n",
                        "  d = derivative(y, x, dx)\n"
                    ]
                }
            ],
            "source": [
                "from scipy.misc import derivative\n",
                "\n",
                "y = lambda x: x**2\n",
                "\n",
                "dx, x = 1, 1\n",
                "\n",
                "while(dx > 1.e-10):\n",
                "    d = derivative(y, x, dx)\n",
                "    print(\"dx = %20.16f, d = %20.16f, err = %20.16f\" % (dx, d, d-2))\n",
                "    dx = dx / 10"
            ]
        },
        {
            "cell_type": "markdown",
            "metadata": {},
            "source": [
                "One way to improve the roundoff errors is by simply using the **decimal** package"
            ]
        },
        {
            "cell_type": "code",
            "execution_count": 38,
            "metadata": {},
            "outputs": [
                {
                    "name": "stdout",
                    "output_type": "stream",
                    "text": [
                        "dx =   1.0000000000000000, d =   3.0000000000000000, err =   1.0000000000000000\n",
                        "dx =   0.1000000000000000, d =   2.1000000000000001, err =   0.1000000000000000\n",
                        "dx =   0.0100000000000000, d =   2.0099999999999998, err =   0.0100000000000000\n",
                        "dx =   0.0010000000000000, d =   2.0009999999999999, err =   0.0010000000000000\n",
                        "dx =   0.0001000000000000, d =   2.0001000000000002, err =   0.0001000000000000\n",
                        "dx =   0.0000100000000000, d =   2.0000100000000001, err =   0.0000100000000000\n",
                        "dx =   0.0000010000000000, d =   2.0000010000000001, err =   0.0000010000000000\n",
                        "dx =   0.0000001000000000, d =   2.0000000999999998, err =   0.0000001000000000\n",
                        "dx =   0.0000000100000000, d =   2.0000000099999999, err =   0.0000000100000000\n",
                        "dx =   0.0000000010000000, d =   2.0000000010000001, err =   0.0000000010000000\n",
                        "dx =   0.0000000001000000, d =   2.0000000001000000, err =   0.0000000001000000\n"
                    ]
                }
            ],
            "source": [
                "from decimal import Decimal\n",
                "\n",
                "dx = Decimal('1.')\n",
                "while( dx >= Decimal(\"1.e-10\")):\n",
                "    x = Decimal(\"1.\")\n",
                "    dy = (x+dx)**2 - x**2\n",
                "    d = dy / dx \n",
                "    print(\"dx = %20.16f, d = %20.16f, err = %20.16f\" % (dx, d, d-2))\n",
                "    dx = dx / Decimal(\"10.\")"
            ]
        },
        {
            "cell_type": "markdown",
            "metadata": {},
            "source": [
                "# Automatic Differentiation"
            ]
        },
        {
            "cell_type": "markdown",
            "metadata": {},
            "source": [
                "Even better than numerical differentiation is automatic differentiation or *autodiff*, which is crucial to breakthroughs in machine learning.\n",
                "\n",
                "This is a technique that allows to evaluate the derivative of a function to machine precision, without the need to use finite differences, using the fact that autodiff package knows the analytical form of the derivative for certain functions. It then builds a computational graph that allows for the evaluation of the derivative of a function using the chain rule."
            ]
        },
        {
            "cell_type": "code",
            "execution_count": 42,
            "metadata": {},
            "outputs": [],
            "source": [
                "import jax \n",
                "import jax.numpy as jnp\n",
                "from jax import grad"
            ]
        },
        {
            "cell_type": "code",
            "execution_count": 41,
            "metadata": {},
            "outputs": [],
            "source": [
                "f = lambda x: x**2"
            ]
        },
        {
            "cell_type": "code",
            "execution_count": 43,
            "metadata": {},
            "outputs": [],
            "source": [
                "grad_f = jax.grad(f)"
            ]
        },
        {
            "cell_type": "code",
            "execution_count": 47,
            "metadata": {},
            "outputs": [
                {
                    "name": "stdout",
                    "output_type": "stream",
                    "text": [
                        "The gradient of f at x = 13.00 is 26.0000000000000000\n"
                    ]
                }
            ],
            "source": [
                "x = 13.0\n",
                "print(\"The gradient of f at x = %.2f is %.16f\" % (x, grad_f(x)))"
            ]
        },
        {
            "cell_type": "markdown",
            "metadata": {},
            "source": [
                "Now compare this to the finite difference technique"
            ]
        },
        {
            "cell_type": "code",
            "execution_count": 49,
            "metadata": {},
            "outputs": [
                {
                    "name": "stdout",
                    "output_type": "stream",
                    "text": [
                        "dx =   1.0000000000000000, d =  27.0000000000000000, err =   1.0000000000000000\n",
                        "dx =   0.1000000000000000, d =  26.0999999999998522, err =   0.0999999999998522\n",
                        "dx =   0.0100000000000000, d =  26.0099999999994225, err =   0.0099999999994225\n",
                        "dx =   0.0010000000000000, d =  26.0009999999795127, err =   0.0009999999795127\n",
                        "dx =   0.0001000000000000, d =  26.0000999998055704, err =   0.0000999998055704\n",
                        "dx =   0.0000100000000000, d =  26.0000099984836162, err =   0.0000099984836162\n",
                        "dx =   0.0000010000000000, d =  26.0000009859595558, err =   0.0000009859595558\n",
                        "dx =   0.0000001000000000, d =  25.9999998775128844, err =  -0.0000001224871156\n",
                        "dx =   0.0000000100000000, d =  26.0000035723351139, err =   0.0000035723351139\n",
                        "dx =   0.0000000010000000, d =  26.0000092566769965, err =   0.0000092566769965\n",
                        "dx =   0.0000000001000000, d =  25.9998955698392749, err =  -0.0001044301607251\n"
                    ]
                }
            ],
            "source": [
                "dx, x = 1, 13\n",
                "while(dx > 1.e-10):\n",
                "    dy = (x+dx)**2 - x**2\n",
                "    d = dy / dx\n",
                "    print(\"dx = %20.16f, d = %20.16f, err = %20.16f\" % (dx, d, d-2*x))\n",
                "    dx = dx / 10"
            ]
        },
        {
            "cell_type": "code",
            "execution_count": null,
            "metadata": {},
            "outputs": [],
            "source": []
        },
        {
            "cell_type": "markdown",
            "metadata": {},
            "source": [
                "There is no error on the autodiff result because it knows $dy/dx$ as a *function*, rather than computing it by numerical approximation\n",
                "\n",
                "Ok, so that's great and all, but autodiff really gets its legs when you have a more complicated function. Derivatives of a more complicated function that is composed of many smaller functions require many applications of the chain rule. Autodiff does this for you."
            ]
        },
        {
            "cell_type": "code",
            "execution_count": 50,
            "metadata": {},
            "outputs": [],
            "source": [
                "def f_complicated(x):\n",
                "    return jnp.cos(jnp.sin(jnp.tanh(x)))"
            ]
        },
        {
            "cell_type": "code",
            "execution_count": 51,
            "metadata": {},
            "outputs": [],
            "source": [
                "grad_fcomp = grad(f_complicated)"
            ]
        },
        {
            "cell_type": "code",
            "execution_count": 52,
            "metadata": {},
            "outputs": [
                {
                    "data": {
                        "text/plain": [
                            "Array(-0.19349389, dtype=float32, weak_type=True)"
                        ]
                    },
                    "execution_count": 52,
                    "metadata": {},
                    "output_type": "execute_result"
                }
            ],
            "source": [
                "grad_fcomp(1.0)"
            ]
        },
        {
            "cell_type": "markdown",
            "metadata": {},
            "source": [
                "Some of the most complicated functions out there are called *neural networks* which can involve millions or billions of smaller functions or *neurons* in the composition. Autodiff also works on them, which is one of the crucial reasons there has been so much progress in AI in the last 10 years. \n",
                "\n",
                "Let's recall our simple neural network architecture that we studied prevously, a feedforward neural network of depth $3$. The equation defining the network is given by:\n",
                "\n",
                "$$\\mathbf{y} = \\mathbf{W}_3\\sigma(\\mathbf{W}_2\\sigma(\\mathbf{W}_1\\mathbf{x}+\\mathbf{b}_1)+\\mathbf{b}_2)+\\mathbf{b}_3$$\n",
                "\n",
                "where $\\mathbf{x}$ is the input vector, $\\mathbf{y}$ is the neural network prediction, $\\mathbf{W}_i$ and $\\mathbf{b}_i$ are the weight matrices and bias vectors of the network, and $\\sigma$ is the non-linear activation function. Recall that the weights and biases are the parameters that are updated when the network is trained to do something useful.\n",
                "\n",
                "So why is autodiff important here? This function looks complicated, but it's just a composition of affine transformations and elementwise non-linearities. We know the derivative of each of these functions, so we can use the chain rule to compute the derivative of the entire network, which is crucial for training. For functions that are compositions of many smaller functions, this is much more efficient than using finite differences and it has less error."
            ]
        },
        {
            "cell_type": "markdown",
            "metadata": {},
            "source": []
        }
    ],
    "metadata": {
        "kernelspec": {
            "display_name": "Python 3 (ipykernel)",
            "language": "python",
            "name": "python3"
        },
        "language_info": {
            "codemirror_mode": {
                "name": "ipython",
                "version": 3
            },
            "file_extension": ".py",
            "mimetype": "text/x-python",
            "name": "python",
            "nbconvert_exporter": "python",
            "pygments_lexer": "ipython3",
            "version": "3.11.4"
        }
    },
    "nbformat": 4,
    "nbformat_minor": 1
}
