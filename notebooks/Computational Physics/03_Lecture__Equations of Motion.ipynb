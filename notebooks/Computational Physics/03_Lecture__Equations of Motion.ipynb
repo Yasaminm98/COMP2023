{
    "cells": [
        {
            "cell_type": "markdown",
            "metadata": {},
            "source": [
                "# Equations of motion (2nd order ODEs)\n",
                "\n",
                "We know that the motion of an object is determined by Newton’s\n",
                "equations. In the one-dimensional case, we can define the instantaneous\n",
                "position $y(t)$, velocity $v(t)$ and acceleration $a(t)$ of an object\n",
                "using the language of differential calculus: \n",
                "$$v(t)=\\frac{dy}{dt},\n",
                "a(t)=\\frac{dv}{dt}.\n",
                "$$ \n",
                "The motion of the particle is defined by:\n",
                "$$\\frac{d^2y}{dt^2}=\\frac{F(t)}{m}$$ \n",
                "This is a second order differential\n",
                "equation that can written as two first order differential equations:\n",
                "$$\n",
                "\\frac{dv}{dt}=\\frac{F(t)}{m} \\\\\n",
                "\\frac{dy}{dt}v(t).$$ \n",
                "To solve it we can apply any of\n",
                "the methods described in the previous sections. If we pick Euler’s, we\n",
                "obtain: \n",
                "\n",
                "$$\n",
                "\\begin{align}\n",
                "v_{n+1}&=&v_n+\\frac{F(t)}{m}\\Delta t = v_n+a_n\\Delta t, \\\\\n",
                "y_{n+1}&=&y_n+v_n\\Delta t,\\end{align}$$ \n",
                "\n",
                "where $a_n=F(t)/m$.\n",
                "<!-- \n",
                "![forces1](figures/forces1.png).\n",
                "#### Forces acting on an object: a) moving upward b) falling. -->\n",
                "\n",
                "### Exercise 1.2: One dimensional motion\n",
                "Write a program to solve the 1d equations of motion for a falling\n",
                "object. Input values: \n",
                "- $y_0=y(t=0)$\n",
                "- $v_0=v(t=0)$. \n",
                "\n",
                "Compare results with\n",
                "different $\\Delta t$ and the exact solution. Plot $y(t)$ and $v(t)$. Use\n",
                "$y_0=10m$; $v_0=0$.\n"
            ]
        },
        {
            "cell_type": "markdown",
            "metadata": {},
            "source": [
                "This is a godd time to introduce the concept of **objects** and object oriented programming in Python. We will first define a class \"**particle**\""
            ]
        },
        {
            "cell_type": "code",
            "execution_count": 1,
            "metadata": {},
            "outputs": [],
            "source": [
                "class particle(object):\n",
                "\n",
                "    def __init__(self, mass=1., y=0., v=0.):\n",
                "        self.mass = mass \n",
                "        self.y = y\n",
                "        self.v = v\n",
                "\n",
                "    def euler(self, f, dt): \n",
                "        self.y = self.y + self.v*dt\n",
                "        self.v = self.v + f/self.mass*dt\n"
            ]
        },
        {
            "cell_type": "code",
            "execution_count": 5,
            "metadata": {},
            "outputs": [
                {
                    "name": "stdout",
                    "output_type": "stream",
                    "text": [
                        "0.139 10.0 1.0\n",
                        "0.139 10.00001 1.0001438848920863\n"
                    ]
                }
            ],
            "source": [
                "pion = particle(0.139, 10.0, 1.0)\n",
                "print(pion.mass, pion.y, pion.v)\n",
                "pion.euler(2,.00001)\n",
                "print(pion.mass, pion.y, pion.v)"
            ]
        },
        {
            "cell_type": "markdown",
            "metadata": {},
            "source": [
                "We are now in position for a free falling particle. Let's start with imports and initializations"
            ]
        },
        {
            "cell_type": "code",
            "execution_count": 13,
            "metadata": {},
            "outputs": [],
            "source": [
                "import numpy as np\n",
                "from matplotlib import pyplot as plt \n",
                "import matplotlib\n",
                "\n",
                "matplotlib.rcParams.update({'figure.dpi':75})\n",
                "\n",
                "g = 9.8\n",
                "mass = 0.01\n",
                "y0 = 300.\n",
                "v0 = 0.\n",
                "vt = 30. # terminal velocity\n",
                "\n",
                "dt = 0.0001\n",
                "\n",
                "gforce = g*mass\n",
                "\n",
                "p = particle(mass, y0, v0)\n",
                "y = [y0]\n",
                "v = [v0]\n",
                "t = [0.]"
            ]
        },
        {
            "cell_type": "markdown",
            "metadata": {},
            "source": [
                "Now we need a loop that solves the dynamics a long as the particle is above the ground."
            ]
        },
        {
            "cell_type": "code",
            "execution_count": 14,
            "metadata": {},
            "outputs": [],
            "source": [
                "while p.y > 0:\n",
                "    fy = -gforce \n",
                "    p.euler(fy, dt)\n",
                "    y.append(p.y)\n",
                "    v.append(p.v)\n",
                "    t.append(t[-1] + dt)\n",
                "\n",
                "t_data, y_data, v_data = np.array(t), np.array(y), np.array(v)"
            ]
        },
        {
            "cell_type": "markdown",
            "metadata": {},
            "source": [
                "Let's plot the velocities and positions"
            ]
        },
        {
            "cell_type": "code",
            "execution_count": 15,
            "metadata": {},
            "outputs": [
                {
                    "data": {
                        "image/png": "[encoded data removed]",
                        "text/plain": [
                            "<Figure size 480x360 with 1 Axes>"
                        ]
                    },
                    "metadata": {},
                    "output_type": "display_data"
                },
                {
                    "data": {
                        "image/png": "[encoded data removed]",
                        "text/plain": [
                            "<Figure size 480x360 with 1 Axes>"
                        ]
                    },
                    "metadata": {},
                    "output_type": "display_data"
                }
            ],
            "source": [
                "plt.plot(t_data, v_data, label='velocity')\n",
                "plt.xlabel('time(s)')\n",
                "plt.ylabel('velocity(m/s)')\n",
                "plt.show() \n",
                "\n",
                "plt.plot(t_data, y_data, label='position')\n",
                "plt.xlabel('time(s)')\n",
                "plt.ylabel('position(m)')\n",
                "plt.show()"
            ]
        },
        {
            "cell_type": "markdown",
            "metadata": {},
            "source": [
                "### Exercise 1.3: Air resistance \n",
                "The form of the velocity-dependent force of the resistance of the air is\n",
                "given by $$F_d=kv$$ where $k$ is a parameter that depends on the\n",
                "properties of the medium and the shape of the object. Since $F$\n",
                "increases as $v$ increases, there is a limiting velocity at which\n",
                "$F_d=F_g=mg$ and the acceleration vanishes:\n",
                "\n",
                "$$kv_t=mg \\Rightarrow v_t=\\frac{mg}{k}$$ \n",
                "\n",
                "In terms of the terminal speed,\n",
                "the force $F_d$ can be rewritten as $$F_d=mg(\\frac{v}{v_t}).$$ Hence,\n",
                "the net force on a falling object is: $$F=mg(1-\\frac{v}{v_t})$$\n",
                "\n",
                "Let's try a slightly different version of this problem where the force $F_d$ varies  with the square of the velocity $F_d=k_2 v^2.$ \n",
                "\n",
                "1.  Derive the net force on a falling object using this\n",
                "    expression, in units of the terminal velocity $v_t$\n",
                "\n",
                "2.  Compute the speed at which a pebble of mass $m=10^{-2}kg$ reaches\n",
                "    the ground if it’s dropped from rest at $y_0=50m$. Compare this\n",
                "    speed to that of a freely falling object under the same conditions.\n",
                "    Assume that the drag force is proportional to $v^2$ and the terminal\n",
                "    speed is $v_t=30m/s$\n",
                "\n",
                "See Mathematica notebook for the detailed solution to 2. The drag and freefall final velocities are 3.49057 and 3.19438, respectively."
            ]
        },
        {
            "cell_type": "markdown",
            "metadata": {},
            "source": [
                "The program will look pretty much identical to the previous one, but we need to introduce the drag force"
            ]
        },
        {
            "cell_type": "code",
            "execution_count": null,
            "metadata": {},
            "outputs": [],
            "source": []
        },
        {
            "cell_type": "code",
            "execution_count": null,
            "metadata": {},
            "outputs": [],
            "source": []
        },
        {
            "cell_type": "markdown",
            "metadata": {},
            "source": [
                "Now we want to ignore drag, which can effectively be done by sending\n",
                "\n",
                "$v_t \\to \\infty$"
            ]
        },
        {
            "cell_type": "code",
            "execution_count": null,
            "metadata": {},
            "outputs": [],
            "source": []
        },
        {
            "cell_type": "markdown",
            "metadata": {},
            "source": [
                "Of course, this physics is rather simple, but seeing the result come out so well in the numerical experiment helps give us confidence in them.\n",
                "\n",
                "We solved the diff eq directly via numerical techniques. However, for some problems with harder diff eqs it's not so easy, and different approaches are worth considering.\n",
                "\n",
                "### Question: how could you do this problem with a neural network?"
            ]
        },
        {
            "cell_type": "markdown",
            "metadata": {},
            "source": [
                "Two dimensional trajectories\n",
                "----------------------------\n",
                "\n",
                "In a 2d trajectory, the direction of the drag force is opposite to the\n",
                "speed vector ${\\bf v}$. Newton’s equations of motion for $x$ and $y$\n",
                "components are written $$\\begin{aligned}\n",
                "&& m\\frac{dv_x}{dt}=-F_{d,x}; \\\\\n",
                "&& m\\frac{dv_y}{dt}=-mg-F_{d,y};\\end{aligned}$$ Using $F_d=kv^2$,\n",
                "$v_x=v\\cos{\\theta}$ and $v_y=v\\sin{\\theta}$, we find $$\\begin{aligned}\n",
                "&& \\frac{dv_x}{dt}=-\\frac{k}{m}vv_x, \\\\ \n",
                "&& \\frac{dv_y}{dt}=-g-\\frac{k}{m}vv_y, \\end{aligned}$$ where\n",
                "$v^2=v_x^2+v_y^2$. Hence, we cannot calculate the vertical motion of the\n",
                "object without reference to the horizontal component.\n",
                "\n",
                "![forces2](figures/forces2.png)\n",
                "#### Object in a two dimensional trajectory under the effect of gravitational and dragging forces}\n",
                "\n",
                "\n",
                "### Exercise 1.7: Trajectory of a shot \n",
                "\n",
                "Modify your code so that the 2d trajectory of an object can be computed,\n",
                "and graphs of $y$ as a function of $x$ can be made.\n",
                "\n",
                "1.  As a check on your program, first neglect the effect of air\n",
                "    resistance so that you an compare to known results. Supouse that the\n",
                "    object is thrown and $t_0$ with an angle $\\theta _0$ with an initial\n",
                "    velocity $v_0=15$m/s. Vary $\\theta_0$ and show that the maximum\n",
                "    range occurs at $\\theta_0=45^{\\circ}$ Compare your result with the\n",
                "    exact value $v_0^2/g$\n",
                "\n",
                "2.  Consider the effects of air resistance. Compute the maximum range,\n",
                "    and the corresponding angle using $k/m=0.1$, $v_0=30$m/s.\n",
                "\n"
            ]
        },
        {
            "cell_type": "code",
            "execution_count": null,
            "metadata": {},
            "outputs": [],
            "source": []
        },
        {
            "cell_type": "code",
            "execution_count": null,
            "metadata": {},
            "outputs": [],
            "source": []
        },
        {
            "cell_type": "markdown",
            "metadata": {},
            "source": [
                "### Challenge 1.4: \n",
                "\n",
                "Modify the previous code to include the effect of drag resistance, and solve Exercise 1.7, part 2."
            ]
        },
        {
            "cell_type": "markdown",
            "metadata": {},
            "source": [
                "#### An introduction to animations with matplotlib"
            ]
        },
        {
            "cell_type": "code",
            "execution_count": null,
            "metadata": {},
            "outputs": [],
            "source": []
        },
        {
            "cell_type": "markdown",
            "metadata": {},
            "source": [
                "Stability\n",
                "---------\n",
                "\n",
                "A major consideration in integrating differential equations is the\n",
                "numerical stability of the algorithm used. Since we have replaced the\n",
                "differential equation by a difference equation, we know that our results\n",
                "will not be exact. Discrepancies will arise when using different step\n",
                "sizes, for instance. This is the “truncation error” and depends on the\n",
                "method employed. Other errors that do not originate in the method\n",
                "correspond to the roundoffs performed by the computer, since it does not\n",
                "work with real numbers, but with a finite number of digits determined by\n",
                "the hardware. These roundoff errors will accumulate and can become\n",
                "significant in some cases.\n",
                "\n",
                "In practice we determine the accuracy of our solutions by reducing the\n",
                "value of the step until the solutions unchanged at the desired level of\n",
                "accuracy.\n",
                "\n",
                "In addition to accuracy, another important factor is the stability of\n",
                "the algorithm. For instance, it may occur that the numerical results are\n",
                "very good for short times, but diverge from the “true” solution for\n",
                "longer times. Such an algorithm is said to be “unstable” for the\n",
                "particular problem.\n",
                "\n",
                "\n",
                "\n",
                "\n",
                "\n"
            ]
        }
    ],
    "metadata": {
        "kernelspec": {
            "display_name": "Python 3 (ipykernel)",
            "language": "python",
            "name": "python3"
        },
        "language_info": {
            "codemirror_mode": {
                "name": "ipython",
                "version": 3
            },
            "file_extension": ".py",
            "mimetype": "text/x-python",
            "name": "python",
            "nbconvert_exporter": "python",
            "pygments_lexer": "ipython3",
            "version": "3.11.4"
        }
    },
    "nbformat": 4,
    "nbformat_minor": 1
}
