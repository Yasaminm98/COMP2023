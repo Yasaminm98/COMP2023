{
    "cells": [
        {
            "cell_type": "markdown",
            "id": "197c118e",
            "metadata": {},
            "source": [
                "# Optimization and Cosmological Constants\n",
                "\n",
                "Much of life is an optimization problem. Crucially, optimization problems come not only objectives, but also constraints, sometimes *multiple* constraints. These constraints may be aligned, or may be at odds with one another. Let's talk about some examples!\n",
                "\n",
                "In this course we've already seen one optimization technique: gradient descent. In this lecture we'll talk about optimization in general. This is important because gradient descent has its shortcoming, for instance it can get stuck in local minima and is not applicable in discrete problems. We'll talk about some other optimization techniques that can help us avoid these problems: simulated annealing and genetic algorithms.\n",
                "\n",
                "# Bousso-Polchinski Model\n",
                "\n",
                "We will apply these techniques to a problem that is very important in cosmology: the cosmological constant problem. This is the problem of why the cosmological constant is so small. In 2000, Bousso and Polchinski gave a new answer to this problem from string theory, that there is a discretuum of vacua with different values of the cosmological constant. This large discretuum (at least, to the extent that the toy model is accurate) ensures the existence of small cosmological constants in string theory, but it doesn't mean it's easy to *find* them. We'll use optimization techniques to find them.\n",
                "\n",
                "In the Bousso-Polchinski model, we have \n",
                "\n",
                "$\\Lambda = \\Lambda_0 + N\\cdot N$\n",
                "\n",
                "where $N\\in \\mathbb{Z}^{h_{21}}$ is a vector of integers and $\\Lambda_0 < 0$. There are many reasons that this is a toy model, but it gets the essential conceptual idea correct. The problem problem is that the observed cosmological constant in Nature is $10^{-120}$ in Planck units, and therefore the goal of the BP model is to find $N$ such that \n",
                "\n",
                "$0 < \\Lambda < \\epsilon$\n",
                "\n",
                "One can think of this as adding up fluxes to lie in a shell slightly between spheres of radius $\\Lambda_0$ and $\\Lambda_0 + \\epsilon$. We won't go all the way to $10^{-120}$, but we'll be happy to just get within a very thin shell.\n",
                "\n"
            ]
        },
        {
            "cell_type": "code",
            "execution_count": 1,
            "id": "c91af5d8",
            "metadata": {},
            "outputs": [],
            "source": [
                "import matplotlib.pyplot as plt\n",
                "import seaborn as sns\n",
                "import numpy as np\n",
                "import pandas as pd\n",
                "\n",
                "L0 = 200000.1293123\n",
                "h21 = 1000\n",
                "M = 4 # consider integer entries between -2**M and 2**M"
            ]
        },
        {
            "cell_type": "markdown",
            "id": "96de594e",
            "metadata": {},
            "source": [
                "# Random Search\n",
                "\n",
                "This part isn't rocket science. Our vectors are \n",
                "\n",
                "$$N \\in \\mathbb{Z}^{h_{21}}$$\n",
                "\n",
                "where the integers in the vectors are restricted to lie between $-2^M$ and $2^M$. If we pick them randomly, how do we do?"
            ]
        },
        {
            "cell_type": "code",
            "execution_count": 3,
            "id": "aa776b8f",
            "metadata": {},
            "outputs": [
                {
                    "name": "stdout",
                    "output_type": "stream",
                    "text": [
                        "Squared Euclidean norm: 99794.00000000001\n",
                        "Distance: 100206.12931229999\n",
                        "Percent Error: 50.1030322614583\n"
                    ]
                }
            ],
            "source": [
                "import numpy as np\n",
                "\n",
                "def random_search(L0, h21, M, num_samples=10000):\n",
                "    closest_vector = None\n",
                "    closest_distance = float('inf')\n",
                "\n",
                "    for _ in range(num_samples):\n",
                "        N = np.random.randint(-2**M, 2**M+1, h21)\n",
                "        distance = abs(np.linalg.norm(N)**2 - L0)\n",
                "        if distance < closest_distance:\n",
                "            closest_distance = distance\n",
                "            closest_vector = N\n",
                "\n",
                "    return closest_vector, closest_distance\n",
                "\n",
                "N, distance = random_search(L0, h21, M)\n",
                "print(\"Squared Euclidean norm:\", np.linalg.norm(N)**2)\n",
                "print(\"Distance:\", distance)\n",
                "print(\"Percent Error:\", 100.*distance/L0)"
            ]
        },
        {
            "cell_type": "markdown",
            "id": "bdb14a9e",
            "metadata": {},
            "source": [
                "Let's be a little more systematic."
            ]
        },
        {
            "cell_type": "code",
            "execution_count": 7,
            "id": "b11ae4bc",
            "metadata": {},
            "outputs": [
                {
                    "name": "stdout",
                    "output_type": "stream",
                    "text": [
                        "0.48815533093905694\n"
                    ]
                },
                {
                    "data": {
                        "image/png": "[encoded data removed]",
                        "text/plain": [
                            "<Figure size 640x480 with 1 Axes>"
                        ]
                    },
                    "metadata": {},
                    "output_type": "display_data"
                }
            ],
            "source": [
                "num_samples = [2**k for k in range(5,17)]\n",
                "percent_errors = [random_search(L0, h21, M, num_samples=num_sample)[1]/L0 for num_sample in num_samples]\n",
                "\n",
                "plt.plot(num_samples,percent_errors)\n",
                "plt.yscale('log')\n",
                "plt.xscale('log')\n",
                "print(min(percent_errors))"
            ]
        },
        {
            "cell_type": "markdown",
            "id": "ed3c3fb7",
            "metadata": {},
            "source": [
                "To prove the point, let's let this go for *awhile*"
            ]
        },
        {
            "cell_type": "code",
            "execution_count": 8,
            "id": "62808a0d",
            "metadata": {},
            "outputs": [
                {
                    "name": "stdout",
                    "output_type": "stream",
                    "text": [
                        "Percent Error: 47.464033967732995\n"
                    ]
                }
            ],
            "source": [
                "N, distance = random_search(L0, h21, M, num_samples=10**6)\n",
                "print('Percent Error:', 100.*distance/L0)"
            ]
        },
        {
            "cell_type": "markdown",
            "id": "c7eb8f28",
            "metadata": {},
            "source": [
                "# Simulated Annealing\n",
                "\n",
                "We can do better. We can use a technique called simulated annealing. The basic idea is to think of the problem as some energy minimization, and then slowly cool the system, introducing fluctuation in a natural way, and hoping that the \"cooling\" system finds a good minimum of the energy.\n",
                "\n",
                "In this problem, we have \n",
                "$$E(N) = |N\\cdot N - \\Lambda_0|$$\n",
                "\n",
                "The basic steps in the algorithm are:\n",
                "- Pick a random vector $N$ at init.\n",
                "- Pick a random integer $i$.\n",
                "- Do something to the $i$th element of $N$, call this $N'$.\n",
                "- If $E(N) < E(N')$, then accept the new vector.\n",
                "- If $E(N) > E(N')$, then accept the new vector with probability $e^{-\\frac{E(N') - E(N)}{T}}$.\n",
                "- Make $T$ smaller next time around.\n",
                "- Iterate."
            ]
        },
        {
            "cell_type": "code",
            "execution_count": 9,
            "id": "3e41262f",
            "metadata": {},
            "outputs": [
                {
                    "name": "stdout",
                    "output_type": "stream",
                    "text": [
                        "Vector N: [ 16  10 -16 -16 -10  -9  16   7 -16 -15  11  12  16 -16  -6   7  14  15\n",
                        "  10 -10   9  -8  16  12  16  -7  16  16 -16  10 -16   9   8 -16  16 -16\n",
                        "  16 -16  16  12 -13 -13  15 -16  -9 -16  -8 -11 -16  15 -14  16 -15  16\n",
                        "  13  16  16 -12 -10 -12  10 -16   8  14 -15  16  15 -16  16  16 -16 -16\n",
                        "  13 -16  -7  16  14  16  13  16  16 -16   5   8   6  14  16 -11  -7  -8\n",
                        " -12  12  16 -11  14 -16  -9 -16 -16  10  16 -10 -12 -11  16  16 -16 -16\n",
                        "  16 -14  16 -10 -10  16  -7  14 -16  16 -16 -10  16  15   3  15 -16 -16\n",
                        " -16 -12   8  -4 -10  13  16  15  16  16  14  16  16 -16   8  16 -10  13\n",
                        " -10 -16 -16 -14 -16  16  10 -12 -14  15 -16  11 -12 -16 -16 -16  14  16\n",
                        "  14  -8   8  16  16 -16  11 -11 -16 -16 -14  12   5  14  10  -9  16  16\n",
                        "   8  16  -9 -16 -16  -6  16  16 -16  11  12  14  14  16   3   5 -16  14\n",
                        " -15 -16 -16  -2  16  16   8 -16  -9  11 -16  16  16  16 -12  -3  -6 -11\n",
                        "  -9 -15 -13  11 -16 -16 -16 -16  -5 -15   8  16  16 -16  16  -7  10 -16\n",
                        " -16 -16  16  16 -16 -15  -4  -8  10  13 -16 -16   9  16  16  16  16  -5\n",
                        "  12  -6 -14 -16  -4   6  15 -16   9 -16 -10  16 -14 -11 -16  11 -13 -13\n",
                        " -16   5  16 -16 -16  16  15  16  16 -15 -16  16   9 -16 -10  15  13 -14\n",
                        "  13  -2 -13 -10 -13 -16  -5  16   4  12   7 -10 -16 -10 -16  16  -9  -6\n",
                        " -16 -13  16 -14  16  16 -11   5 -16  -8 -16  -3 -15 -12  13 -16 -16 -16\n",
                        " -14 -16  11 -16   8 -15   3  13  -4  15  16 -15   4  -6  -6 -15 -16 -16\n",
                        " -16 -11 -11 -16   5  14   9 -16  -7   8 -16  -9 -16 -16  16  14 -11   4\n",
                        "  16  16  -4  14  16   7   9  10 -11 -11  16 -11   2  13  13  16 -16   6\n",
                        " -16 -15  12  15 -16  13 -16   9  -5   6  14  16  12 -10  11 -16 -15  12\n",
                        "  15 -12  12 -13 -16 -12 -14  14  16  -6  16  14  16   7 -16  -8  16 -12\n",
                        "  10   8  11   6  16 -16  -8 -16  16  11 -16 -13  16 -16 -16 -16  16  -9\n",
                        " -16  16  16  16 -10 -15  13  16  -8  16 -16  11  10  16   5  11  10   8\n",
                        "  16  -2  16 -16 -16 -16  16 -14 -16 -16 -13  16  -6  12  10 -16 -16   6\n",
                        "  16  15 -15  -8  16  -7 -16 -12  -8 -14 -10 -12 -16 -11 -10 -16  10   9\n",
                        "  11  13 -14 -12 -16 -10  10  16  16 -13 -12 -12  -7  16 -16  14  16 -16\n",
                        "  16 -16   2 -16 -10  16 -16 -16 -16 -14 -13 -16   4  11 -14  12  14  10\n",
                        "  16 -16 -15   4  11 -14  16   9  13 -16  16 -16  14  13  11   8 -16  16\n",
                        " -15  -7  16   4 -16  16  -7  16  16 -16   6  15  16  16 -16  -9  -5  -6\n",
                        "   9 -16 -12  -7  13  12  15 -15   5   8 -11 -12  16  16 -15  10  16  12\n",
                        " -16   7  12 -16 -16 -16  -9 -14   5   9  -7 -14  16  12 -16  16 -16  -6\n",
                        "  13 -15  15  16  13   9   9  -6 -13  -8 -16  11  -9   4 -16 -15  -6  -9\n",
                        "   7 -14 -14  16 -16  15  13 -16 -15  -9  -4   6   9 -14 -16   8  -5  15\n",
                        "  15   4 -11  10  16  14 -10 -16 -16  -8 -16 -15  16 -13 -16  16  16  14\n",
                        "  15 -16 -14  11  -7 -16  16  13  16   6   9  14 -12  16  -4  15 -13 -16\n",
                        "  -7  16  15  16 -16  13 -16  16  -5 -12  16 -15 -16  -6 -16  16 -13 -14\n",
                        " -16  -8 -15 -16 -15  13  14 -16 -10  16  14 -16  -1 -16 -16  15 -16 -16\n",
                        " -16   8   3  12 -16  12  16  13  14 -10 -13  16  14  -8   6 -16  16  15\n",
                        " -16 -16  10 -16  16  -8 -16  -6 -11  10  16  16   3  14  -6   9 -16 -10\n",
                        " -16  11  16  13   9  12  -9 -16  -3   7  12  13  16 -16 -13 -16   9   6\n",
                        " -12   8  16  12  16   4  10  15 -16  13 -16  13   9  16  -6  16  -9 -10\n",
                        "  11 -15  16  16  16 -16 -11 -16 -16  14   7  11 -10 -16  14 -10   7  15\n",
                        "   6  10  16  13  10  16   6   9 -11  -7  15  16  -4 -16 -13 -16 -16  15\n",
                        "  16 -11  16  11 -16 -16 -14 -15  16  14  14 -16 -16   6  12  16  -8  12\n",
                        "  16 -16 -16  16  16 -10  16 -10 -14   3  15 -16  14  16 -16 -16 -16  14\n",
                        "   2 -16  -7  -6  14 -15   3  16  16   8  16 -16  -7 -16   5   7   6 -16\n",
                        "  16  16 -16 -16   8  -8  15 -11  11  16  11   7  16   5 -16  16 -16 -15\n",
                        "  16  14  -9  -4 -12  -9 -11  10 -11  13  -3 -16 -15  11  16 -15  16 -16\n",
                        " -16   8 -14 -13 -10   9  16  16   7  10  16 -12 -16  16 -16 -16   9 -13\n",
                        "   5 -16 -16  12 -16 -16 -16  -8   6  16   9  10 -16   2 -16   8  15  16\n",
                        "  16  -8  11  16  16  16 -16 -16  -7   7   7 -13 -16  16  16 -14  16 -16\n",
                        "   8  16 -16  -2  16 -12   9  -8   5 -10  16  -8   5  16 -12 -16  16  12\n",
                        " -16  15 -16  16 -16  10 -16  15 -16  16  -9  16 -13  15  11   7  16  16\n",
                        "   5 -16 -10 -16 -10  16 -14 -16 -11   2]\n",
                        "Squared Euclidean norm: 176618.0\n",
                        "Distance: 23382.129312300007\n",
                        "Percent Error: 11.69105709716259\n"
                    ]
                }
            ],
            "source": [
                "import numpy as np \n",
                "\n",
                "def simulated_annealing(L0, h21, M, max_iters=10000, initial_temp=1000, cooling_rate=0.99):\n",
                "    current_vector = np.random.randint(-2**M, 2**M+1, h21)\n",
                "    current_distance = abs(np.linalg.norm(current_vector)**2 - L0)\n",
                "\n",
                "    best_vector = np.copy(current_vector)\n",
                "    best_distance = current_distance \n",
                "\n",
                "    temperature = initial_temp \n",
                "\n",
                "    for i in range(max_iters):\n",
                "        new_vector = np.copy(current_vector)\n",
                "        index_to_change = np.random.choice(h21)\n",
                "        change = np.random.randint(-2,3)\n",
                "        new_vector[index_to_change] += change\n",
                "        new_vector = np.clip(new_vector, -2**M, 2**M)\n",
                "\n",
                "        new_distance = abs(np.linalg.norm(new_vector)**2 - L0)\n",
                "\n",
                "        if new_distance < best_distance:\n",
                "            best_vector = np.copy(new_vector)\n",
                "            best_distance = new_distance \n",
                "\n",
                "        if new_distance < current_distance or np.random.rand() < np.exp((current_distance-new_distance)/temperature):\n",
                "            current_vector = np.copy(new_vector)\n",
                "            current_distance = new_distance\n",
                "\n",
                "        temperature *= cooling_rate\n",
                "    \n",
                "    return best_vector, best_distance\n",
                "\n",
                "N, distance = simulated_annealing(L0, h21, M)\n",
                "print(\"Vector N:\", N)\n",
                "print(\"Squared Euclidean norm:\", np.linalg.norm(N)**2)\n",
                "print(\"Distance:\", distance)\n",
                "print(\"Percent Error:\", 100.*distance/L0)"
            ]
        },
        {
            "cell_type": "markdown",
            "id": "9cfdd779",
            "metadata": {},
            "source": [
                "Already much better in .1s than 10s of seconds with random search. Let's crank up the number of iterations and cool more slowly."
            ]
        },
        {
            "cell_type": "code",
            "execution_count": 10,
            "id": "aa08d2ec",
            "metadata": {},
            "outputs": [
                {
                    "name": "stderr",
                    "output_type": "stream",
                    "text": [
                        "/var/folders/wz/s4rx21_137g79thgtc1s1k3m0000gn/T/ipykernel_48061/2080265195.py:25: RuntimeWarning: overflow encountered in scalar divide\n",
                        "  if new_distance < current_distance or np.random.rand() < np.exp((current_distance-new_distance)/temperature):\n"
                    ]
                },
                {
                    "name": "stdout",
                    "output_type": "stream",
                    "text": [
                        "Squared Euclidean norm: 200000.0\n",
                        "Distance: 0.129312300006859\n",
                        "Percent Error: 6.465610819927919e-05\n"
                    ]
                }
            ],
            "source": [
                "N, distance = simulated_annealing(L0, h21, M, max_iters = 1000000, cooling_rate=0.999)\n",
                "# print(\"Vector N:\", N)\n",
                "print(\"Squared Euclidean norm:\", np.linalg.norm(N)**2)\n",
                "print(\"Distance:\", distance)\n",
                "print(\"Percent Error:\", 100.*distance/L0)"
            ]
        },
        {
            "cell_type": "code",
            "execution_count": 11,
            "id": "aea2e1ce",
            "metadata": {},
            "outputs": [
                {
                    "data": {
                        "text/plain": [
                            "array([-14,  16, -16,   6, -15, -10, -16,  16,  16,  -9,  13,  16,  16,\n",
                            "       -16,  16, -11, -16,  16, -16, -16, -15,  16, -16, -16,  16,   9,\n",
                            "        16,   9,  16,  16, -10,   4, -11,  -6, -16, -16, -16,  16, -11,\n",
                            "       -14, -12, -16,  16,  10, -16,   8,  16,  16,  16,  -7,  -6,  16,\n",
                            "       -11,   9,  16,  12, -15, -16,  -8, -16,  14,   9,   5,  16,  16,\n",
                            "        13,  16,  16,  16,  16,  16, -14, -13,  -8,  13, -16,   7,  16,\n",
                            "       -10, -11,   5,  -6,  16,  -4,  15,  16,  16, -10,   9, -10,  -5,\n",
                            "       -10, -13, -10, -16, -16,  16, -14,  10, -16, -16,  12,  16, -16,\n",
                            "       -16, -16, -16,  11, -16, -16, -16,  16, -16, -12,  -8,  16, -16,\n",
                            "        16,  12,  16, -16, -16,  11,  16,  16,  -6, -16, -15, -16,  12,\n",
                            "       -16,  16,  16,  16,  16, -12,  16, -16,  11,  16,  -9, -15,  13,\n",
                            "        16, -16,  16,  16, -16, -16, -16,   4,   2, -16,  16,  16,  16,\n",
                            "        -8, -10,  16,  16,  16,  10, -16,  16, -16, -15,  16, -16,  11,\n",
                            "       -16, -10, -16,   8, -13, -16,  16,   6,  16,  10, -16,  15,  16,\n",
                            "       -16,   6,  -9, -10,  16,  16,  16,  14,  16,   5,  16,  16,  16,\n",
                            "        16, -16,  11,  14, -16,  10,  -8,  15, -16,  16,  15,  16, -12,\n",
                            "        16,  16,  10,  11, -13, -11, -16,  16,  -5, -16,  12,  16, -13,\n",
                            "        16,  16,  13, -13, -16, -14, -16,  16, -16,  16,  13,  13, -16,\n",
                            "       -16,  16, -16,  16, -14,  -8,  16,  -9,  16, -16,  16, -16,  12,\n",
                            "        16, -16,  -4, -14,  16, -16, -13,  -8,  12,  13,   5,  15,  16,\n",
                            "       -12,  -6, -14,  16, -16, -15,  13, -16, -15, -16,  -9, -16,   8,\n",
                            "       -16, -16,  16,  16,  16, -16,  15, -16,  16,  15,  16, -14,  16,\n",
                            "        -4,  16,  11,  10,   4,  -7, -16,  16,  16,  12,  10, -15, -16,\n",
                            "       -16, -16, -16,   9,  16,  16,  16, -16,  16, -11, -13,  16,  13,\n",
                            "        12,  12, -16,  11,   6,  11,  15,  -5,  -9,  14, -16,  16, -14,\n",
                            "       -13,   9, -16,   9, -16,  16, -16,  -7, -16, -16,  16, -16, -11,\n",
                            "       -16, -16,   9,  16,  16, -16, -16, -11,  15,  16,  16,   7,  15,\n",
                            "       -11,  11,   7, -10,  16,  12,   8,   8,  11, -13,  16,  16,  -6,\n",
                            "       -16,  16,   9, -16, -16, -14, -11,   9, -12, -16,  -7,  -6, -16,\n",
                            "       -16,  16, -10,  16, -16,  16,  -8, -11, -16,  16, -16,  12,  16,\n",
                            "        14, -16,  16,  10, -14, -16,  16, -16,  13, -11,  16,  16, -12,\n",
                            "       -16, -15, -16, -16, -13, -14, -16, -12,  16,  16,  15,  16,  16,\n",
                            "        16, -16,  12, -12, -16, -16,  16, -16,  -5,  11,  -5,  16,  16,\n",
                            "       -16,  12,  16, -11,  16,  16,  16, -12, -16,  14,  15,  -8, -16,\n",
                            "        -7, -10, -16, -16,  16,  -9,  14, -16,  11, -13, -16, -16,  16,\n",
                            "        16, -16, -13,  15,  16,  15, -16,  16,  16,  12,   9, -16,  16,\n",
                            "        -5,  16,  16,  16,  -8, -16, -14,  16, -13,   9,  16,  -9,  15,\n",
                            "       -14,  11,  16, -12, -16,   8,   5,  -8, -13,  16,  -5,  -5,  16,\n",
                            "       -10,  16, -12,  16,  16, -16, -16,  13, -16,  16,  13, -16,  16,\n",
                            "        16,  10,  16,  16, -16, -16,  -8, -16, -16,  16, -16, -16,  16,\n",
                            "       -16,  16,  16, -15,  16, -16,  16, -16,  16,  16,  16, -12, -16,\n",
                            "        16,  16, -12,  14, -14,  13,  16,  -7,   7,  16, -16,  16, -16,\n",
                            "       -16,   6,  16, -16,  -8, -11, -16,  16, -16, -14, -13,  15, -16,\n",
                            "       -16,  16, -16,  16,  10,  16, -12, -16, -16,   9,  -8,  10,  16,\n",
                            "       -16,  15,  15,  16, -16,  14, -16,   7,  -7, -16, -16,  13,  15,\n",
                            "       -16,  -9, -16, -10,  16,  11,   8,  16,  10, -15, -11,  13,   7,\n",
                            "       -16,   9,  16, -13, -16,  16,  16,  -8,   9, -16,  11, -14, -15,\n",
                            "        16,  16, -12,   9,  16, -14,  16, -10, -16,  14, -16,  13,  -6,\n",
                            "        16,  16,  16,  16, -16, -15,  16,  16, -16,  16,  16,   8,   6,\n",
                            "       -16, -11,  10,  10, -16, -16,  16,  16,  -5,  16, -16, -16,  16,\n",
                            "        16, -16,  12, -16,  16, -12, -16, -16,   8, -15,  13, -16, -10,\n",
                            "        16,  13,  15,  16, -16,   6,   9,  16, -16, -15, -12,  15,  -6,\n",
                            "       -11,  16, -16,  16,  10,  -6, -16, -16,  13, -16,  16, -16, -16,\n",
                            "        10, -16,   9,  16, -14, -15,  16, -10,  11,  13,  16,  16, -16,\n",
                            "        13, -16, -14,  16,  16, -16,  15,  16, -12, -16, -16, -15, -14,\n",
                            "        14,  16, -12,  12,  12, -16,  -5,  16, -16, -16, -16,  16, -16,\n",
                            "        -1,  16, -16, -16, -15,  16,  14,  16,  16,  16,  -9,  16,  -5,\n",
                            "        16,  10,  16,  14, -16, -12, -16,  15,  16, -16, -16, -16, -16,\n",
                            "       -16, -16, -13, -16, -16,  16,  11,  10,  16,  16, -12, -15, -16,\n",
                            "        16, -10,  16,  10, -15, -16,  10, -16, -16,  11, -16,  16,  16,\n",
                            "       -16, -16,  16,  11, -16, -16,  15,  16, -16,  10,  16, -16, -13,\n",
                            "       -16, -16,  16,  10, -16, -14,  14, -16, -16, -16, -16, -16,  16,\n",
                            "        15,  12, -16, -11, -16, -13,  -9,  -9,  14, -14,  16,  16,  -1,\n",
                            "        16,  -6,  16, -16, -12, -16,  16,  10,  16, -16,  -4, -13, -16,\n",
                            "         8, -16, -16,  10,  10,  16,   1, -16,  16, -14,  16,   4,  16,\n",
                            "        16, -16,  -7, -16,  11, -16, -16,  16, -16,  12, -16, -16,  16,\n",
                            "       -16, -16, -16, -16,  -8,  16,  -9,  16,  16, -10, -16,  10, -16,\n",
                            "        16, -16, -16,  13, -16, -16, -16,  12,  14, -16, -12,  16, -16,\n",
                            "       -16, -16, -16,  15,  -4, -16, -12,  14, -14,  16, -16, -16,  -7,\n",
                            "        16,  10,  13,   5,  16,  16, -16, -16,  16, -10, -16,   9,  -3,\n",
                            "        15,  16, -16, -16, -16, -16,  -8, -16, -16,  16,   9, -16,  16,\n",
                            "       -16,   9,  16, -16,  11,  16, -14, -16,  16, -12,  16,  11, -16,\n",
                            "       -11, -15,   9,  12, -16,  10,  16,  16, -16, -15,  16, -16,  16,\n",
                            "        16,  16,  16,  11,  16, -13, -16,  16,  13,  16,   5,  16,  10,\n",
                            "        15, -11, -16, -16,  16,   7,  11, -15,   7, -16,  16,  12, -16,\n",
                            "       -16,  -9,  12,   9, -16,  16, -16,  13, -16,  13, -16, -10, -16,\n",
                            "        16, -15, -16,  16,   8,  16, -13,   8,  11,  16,  16,  15])"
                        ]
                    },
                    "execution_count": 11,
                    "metadata": {},
                    "output_type": "execute_result"
                }
            ],
            "source": [
                "N"
            ]
        },
        {
            "cell_type": "markdown",
            "id": "bbc723f7",
            "metadata": {},
            "source": [
                "# Genetic Algorithms"
            ]
        },
        {
            "cell_type": "code",
            "execution_count": 12,
            "id": "ae68c232",
            "metadata": {},
            "outputs": [
                {
                    "name": "stdout",
                    "output_type": "stream",
                    "text": [
                        "Squared Euclidean norm: 133611.0\n",
                        "Distance: 66389.1293123\n",
                        "Percent Error: 33.19454319383637\n"
                    ]
                }
            ],
            "source": [
                "import numpy as np\n",
                "\n",
                "def genetic_algorithm(L0, h21, M, population_size=100, generations=10000, mutation_rate=0.1):\n",
                "    population = np.random.randint(-2**M, 2**M+1, (population_size, h21))\n",
                "\n",
                "    for generation in range(generations):\n",
                "        fitness = np.array([1/abs(np.linalg.norm(ind)**2-L0) for ind in population])\n",
                "        parent_indices = fitness.argsort()[-2:]\n",
                "        parent1, parent2 = population[parent_indices]\n",
                "\n",
                "        point = np.random.randint(1,h21-1)\n",
                "        child = np.concatenate((parent1[:point], parent2[point:]))\n",
                "\n",
                "        if np.random.rand() < mutation_rate:\n",
                "            mutation_index = np.random.choice(h21)\n",
                "            mutation_value = np.random.randint(-2**M, 2**M+1)\n",
                "            child[mutation_index] = mutation_value\n",
                "\n",
                "        worst_index = fitness.argmin()\n",
                "        population[worst_index] = child\n",
                "\n",
                "    fitness = np.array([1/abs(np.linalg.norm(ind)**2-L0) for ind in population])\n",
                "    best_index = np.argmax(fitness)\n",
                "    best_vector = population[best_index]\n",
                "    distance = abs(np.linalg.norm(best_vector)**2 - L0)\n",
                "\n",
                "    return best_vector, distance \n",
                "\n",
                "N, distance = genetic_algorithm(L0, h21, M)\n",
                "print(\"Squared Euclidean norm:\", np.linalg.norm(N)**2)\n",
                "print(\"Distance:\", distance)\n",
                "print(\"Percent Error:\", 100.*distance/L0)"
            ]
        },
        {
            "cell_type": "markdown",
            "id": "d2debcfa",
            "metadata": {},
            "source": [
                "But don't you know that evolution takes time?"
            ]
        },
        {
            "cell_type": "code",
            "execution_count": 14,
            "id": "9ff525c0",
            "metadata": {},
            "outputs": [
                {
                    "name": "stdout",
                    "output_type": "stream",
                    "text": [
                        "Squared Euclidean norm: 200004.0\n",
                        "Distance: 3.870687699993141\n",
                        "Percent Error: 0.0019353425986785569\n"
                    ]
                }
            ],
            "source": [
                "N, distance = genetic_algorithm(L0, h21, M, generations=100000, mutation_rate=0.1)\n",
                "print(\"Squared Euclidean norm:\", np.linalg.norm(N)**2)\n",
                "print(\"Distance:\", distance)\n",
                "print(\"Percent Error:\", 100.*distance/L0)"
            ]
        },
        {
            "cell_type": "markdown",
            "id": "49a9fa44",
            "metadata": {},
            "source": [
                "# Sample and Bump\n",
                "\n",
                "Alternatively, we can try sampling a random unit vector, putting it on the sphere, and bumping it to an integer. How does this work?"
            ]
        },
        {
            "cell_type": "code",
            "execution_count": null,
            "id": "e3de8110",
            "metadata": {},
            "outputs": [],
            "source": []
        },
        {
            "cell_type": "markdown",
            "id": "7cdbbc68",
            "metadata": {},
            "source": [
                "Ok, so this worked better than expected. What are some downsides of this technique?"
            ]
        },
        {
            "cell_type": "markdown",
            "id": "501e2006",
            "metadata": {},
            "source": []
        }
    ],
    "metadata": {
        "kernelspec": {
            "display_name": "Python 3 (ipykernel)",
            "language": "python",
            "name": "python3"
        },
        "language_info": {
            "codemirror_mode": {
                "name": "ipython",
                "version": 3
            },
            "file_extension": ".py",
            "mimetype": "text/x-python",
            "name": "python",
            "nbconvert_exporter": "python",
            "pygments_lexer": "ipython3",
            "version": "3.11.4"
        }
    },
    "nbformat": 4,
    "nbformat_minor": 5
}
