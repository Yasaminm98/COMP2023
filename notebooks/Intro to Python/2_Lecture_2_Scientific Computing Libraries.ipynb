{
 "cells": [
  {
   "cell_type": "markdown",
   "id": "46319c91",
   "metadata": {},
   "source": [
    "# Scientific Computing Libraries\n",
    "\n",
    "Some essential scientific computing libraries in python are \n",
    "- [NumPy](https://numpy.org/): Numerical Python\n",
    "- [SciPy](https://www.scipy.org/): Scientific Python\n",
    "- [Matplotlib](https://matplotlib.org/): Plotting library\n",
    "- [Seaborn](https://seaborn.pydata.org/): Statistical data visualization\n",
    "- [Pandas](https://pandas.pydata.org/): Data analysis library\n",
    "- [SymPy](https://www.sympy.org/en/index.html): Symbolic Python\n",
    "\n",
    "You saw some of these utilized in the previous lecture, but in this lecture we'll introduce them a little more thoroughly."
   ]
  },
  {
   "cell_type": "markdown",
   "id": "4f894278",
   "metadata": {},
   "source": [
    "# NumPy\n",
    "\n",
    "Numpy is the fundamental package for scientific computing in Python. It provides a multidimensional array object, various derived objects (such as masked arrays and matrices), and an assortment of routines for fast operations on arrays, including mathematical, logical, shape manipulation, sorting, selecting, I/O, discrete Fourier transforms, basic linear algebra, basic statistical operations, random simulation and much more."
   ]
  },
  {
   "cell_type": "code",
   "execution_count": 22,
   "id": "135418d6",
   "metadata": {},
   "outputs": [],
   "source": [
    "import numpy as np"
   ]
  },
  {
   "cell_type": "markdown",
   "id": "291cec8b",
   "metadata": {},
   "source": [
    "## Numpy Essentials\n",
    "\n",
    "To get used to some of the operators, we'll create some random arrays. Functions that do this in numpy include `np.random.rand` and `np.random.randn`. The first creates an array of random numbers between 0 and 1, while the second creates an array of random numbers from a standard normal distribution.\n",
    "\n",
    "If you want to create an array of random integers, you can use `np.random.randint`. We'll use this for now to keep our math simpler."
   ]
  },
  {
   "cell_type": "code",
   "execution_count": 23,
   "id": "22459a84",
   "metadata": {},
   "outputs": [
    {
     "data": {
      "text/plain": [
       "array([8, 7, 5, 2, 2])"
      ]
     },
     "execution_count": 23,
     "metadata": {},
     "output_type": "execute_result"
    }
   ],
   "source": [
    "np.random.randint(0, 10, size=5)"
   ]
  },
  {
   "cell_type": "code",
   "execution_count": 24,
   "id": "27587a11",
   "metadata": {},
   "outputs": [
    {
     "name": "stdout",
     "output_type": "stream",
     "text": [
      "[6 7] [6]\n"
     ]
    }
   ],
   "source": [
    "a, b = np.random.randint(0, 10, size=2), np.random.randint(0, 10, size=1)\n",
    "print(a, b)"
   ]
  },
  {
   "cell_type": "markdown",
   "id": "3637ecce",
   "metadata": {},
   "source": [
    "Let's do some basic operations"
   ]
  },
  {
   "cell_type": "code",
   "execution_count": 25,
   "id": "9c8880f0",
   "metadata": {},
   "outputs": [
    {
     "name": "stdout",
     "output_type": "stream",
     "text": [
      "[12 13]\n",
      "[0 1]\n",
      "[36 42]\n",
      "[1.         1.16666667]\n"
     ]
    }
   ],
   "source": [
    "print(a+b)\n",
    "print(a-b)\n",
    "print(a*b)\n",
    "print(a/b)"
   ]
  },
  {
   "cell_type": "code",
   "execution_count": 26,
   "id": "493c35f6-0868-4b64-aecb-6de4a96eb672",
   "metadata": {},
   "outputs": [],
   "source": [
    "a = [1,2,3]\n",
    "b = [4,5,6]"
   ]
  },
  {
   "cell_type": "code",
   "execution_count": 27,
   "id": "7a960997-26e5-4c72-8f7e-fb33245a9dfd",
   "metadata": {},
   "outputs": [
    {
     "data": {
      "text/plain": [
       "[1, 2, 3, 1, 2, 3, 1, 2, 3, 1, 2, 3]"
      ]
     },
     "execution_count": 27,
     "metadata": {},
     "output_type": "execute_result"
    }
   ],
   "source": [
    "a * 4"
   ]
  },
  {
   "cell_type": "code",
   "execution_count": 28,
   "id": "c6dafd22-114c-4430-90f0-fe6d84f64637",
   "metadata": {},
   "outputs": [
    {
     "ename": "TypeError",
     "evalue": "int() takes at most 2 arguments (3 given)",
     "output_type": "error",
     "traceback": [
      "\u001b[0;31m---------------------------------------------------------------------------\u001b[0m",
      "\u001b[0;31mTypeError\u001b[0m                                 Traceback (most recent call last)",
      "\u001b[1;32m/home/jim/Dropbox/Documents/Job Related/Teaching/comp_phys/notebooks/Intro to Python/2_Lecture_2_Scientific Computing Libraries.ipynb Cell 11\u001b[0m line \u001b[0;36m1\n\u001b[0;32m----> <a href='vscode-notebook-cell:/home/jim/Dropbox/Documents/Job%20Related/Teaching/comp_phys/notebooks/Intro%20to%20Python/2_Lecture_2_Scientific%20Computing%20Libraries.ipynb#X13sZmlsZQ%3D%3D?line=0'>1</a>\u001b[0m \u001b[39mclass\u001b[39;49;00m \u001b[39mtrop\u001b[39;49;00m(\u001b[39mint\u001b[39;49m):\n\u001b[1;32m      <a href='vscode-notebook-cell:/home/jim/Dropbox/Documents/Job%20Related/Teaching/comp_phys/notebooks/Intro%20to%20Python/2_Lecture_2_Scientific%20Computing%20Libraries.ipynb#X13sZmlsZQ%3D%3D?line=1'>2</a>\u001b[0m     \u001b[39mdef\u001b[39;49;00m \u001b[39m__init__\u001b[39;49m(\u001b[39mself\u001b[39;49m, x):\n\u001b[1;32m      <a href='vscode-notebook-cell:/home/jim/Dropbox/Documents/Job%20Related/Teaching/comp_phys/notebooks/Intro%20to%20Python/2_Lecture_2_Scientific%20Computing%20Libraries.ipynb#X13sZmlsZQ%3D%3D?line=2'>3</a>\u001b[0m         \u001b[39msuper\u001b[39;49m()\u001b[39m.\u001b[39;49m\u001b[39m__init__\u001b[39;49m()\n",
      "\u001b[0;31mTypeError\u001b[0m: int() takes at most 2 arguments (3 given)"
     ]
    }
   ],
   "source": [
    "class trop(int):\n",
    "    def __init__(self, x):\n",
    "        super().__init__()\n",
    "        self.x = x\n",
    "    def __add__(self, y):\n",
    "        return self.x * y\n",
    "    # def __mul__(self, y):\n",
    "    #     return max(self.x, y)\n",
    "    def whatisthat(self):\n",
    "        print(\"It's tropical\")"
   ]
  },
  {
   "cell_type": "code",
   "execution_count": 29,
   "id": "d70b6043-5eb8-4a87-91ae-6f8b1d6e6e96",
   "metadata": {},
   "outputs": [
    {
     "ename": "TypeError",
     "evalue": "'int' object is not callable",
     "output_type": "error",
     "traceback": [
      "\u001b[0;31m---------------------------------------------------------------------------\u001b[0m",
      "\u001b[0;31mTypeError\u001b[0m                                 Traceback (most recent call last)",
      "\u001b[1;32m/home/jim/Dropbox/Documents/Job Related/Teaching/comp_phys/notebooks/Intro to Python/2_Lecture_2_Scientific Computing Libraries.ipynb Cell 12\u001b[0m line \u001b[0;36m3\n\u001b[1;32m      <a href='vscode-notebook-cell:/home/jim/Dropbox/Documents/Job%20Related/Teaching/comp_phys/notebooks/Intro%20to%20Python/2_Lecture_2_Scientific%20Computing%20Libraries.ipynb#X14sZmlsZQ%3D%3D?line=0'>1</a>\u001b[0m a \u001b[39m=\u001b[39m trop(\u001b[39m5\u001b[39m)\n\u001b[1;32m      <a href='vscode-notebook-cell:/home/jim/Dropbox/Documents/Job%20Related/Teaching/comp_phys/notebooks/Intro%20to%20Python/2_Lecture_2_Scientific%20Computing%20Libraries.ipynb#X14sZmlsZQ%3D%3D?line=1'>2</a>\u001b[0m b \u001b[39m=\u001b[39m trop(\u001b[39m7\u001b[39m)\n\u001b[0;32m----> <a href='vscode-notebook-cell:/home/jim/Dropbox/Documents/Job%20Related/Teaching/comp_phys/notebooks/Intro%20to%20Python/2_Lecture_2_Scientific%20Computing%20Libraries.ipynb#X14sZmlsZQ%3D%3D?line=2'>3</a>\u001b[0m c \u001b[39m=\u001b[39m \u001b[39mint\u001b[39;49m(\u001b[39m6\u001b[39;49m)\n\u001b[1;32m      <a href='vscode-notebook-cell:/home/jim/Dropbox/Documents/Job%20Related/Teaching/comp_phys/notebooks/Intro%20to%20Python/2_Lecture_2_Scientific%20Computing%20Libraries.ipynb#X14sZmlsZQ%3D%3D?line=3'>4</a>\u001b[0m a \u001b[39m*\u001b[39m b\n",
      "\u001b[0;31mTypeError\u001b[0m: 'int' object is not callable"
     ]
    }
   ],
   "source": [
    "a = trop(5)\n",
    "b = trop(7)\n",
    "c = int(6)\n",
    "a * b"
   ]
  },
  {
   "cell_type": "code",
   "execution_count": 30,
   "id": "71ca81f9-c600-406c-9d63-1792fed9879b",
   "metadata": {},
   "outputs": [
    {
     "name": "stdout",
     "output_type": "stream",
     "text": [
      "It's tropical\n"
     ]
    }
   ],
   "source": [
    "a.whatisthat()"
   ]
  },
  {
   "cell_type": "code",
   "execution_count": 31,
   "id": "17bab47c-ce60-4c51-b8fc-fd4941402e2e",
   "metadata": {},
   "outputs": [
    {
     "ename": "TypeError",
     "evalue": "'int' object is not callable",
     "output_type": "error",
     "traceback": [
      "\u001b[0;31m---------------------------------------------------------------------------\u001b[0m",
      "\u001b[0;31mTypeError\u001b[0m                                 Traceback (most recent call last)",
      "\u001b[1;32m/home/jim/Dropbox/Documents/Job Related/Teaching/comp_phys/notebooks/Intro to Python/2_Lecture_2_Scientific Computing Libraries.ipynb Cell 14\u001b[0m line \u001b[0;36m3\n\u001b[1;32m      <a href='vscode-notebook-cell:/home/jim/Dropbox/Documents/Job%20Related/Teaching/comp_phys/notebooks/Intro%20to%20Python/2_Lecture_2_Scientific%20Computing%20Libraries.ipynb#X16sZmlsZQ%3D%3D?line=0'>1</a>\u001b[0m old_int \u001b[39m=\u001b[39m \u001b[39mint\u001b[39m\n\u001b[1;32m      <a href='vscode-notebook-cell:/home/jim/Dropbox/Documents/Job%20Related/Teaching/comp_phys/notebooks/Intro%20to%20Python/2_Lecture_2_Scientific%20Computing%20Libraries.ipynb#X16sZmlsZQ%3D%3D?line=1'>2</a>\u001b[0m \u001b[39mint\u001b[39m \u001b[39m=\u001b[39m \u001b[39m5\u001b[39m\n\u001b[0;32m----> <a href='vscode-notebook-cell:/home/jim/Dropbox/Documents/Job%20Related/Teaching/comp_phys/notebooks/Intro%20to%20Python/2_Lecture_2_Scientific%20Computing%20Libraries.ipynb#X16sZmlsZQ%3D%3D?line=2'>3</a>\u001b[0m b \u001b[39m=\u001b[39m \u001b[39mint\u001b[39;49m(\u001b[39m7\u001b[39;49m)\n",
      "\u001b[0;31mTypeError\u001b[0m: 'int' object is not callable"
     ]
    }
   ],
   "source": [
    "old_int = int\n",
    "int = 5\n",
    "b = int(7)"
   ]
  },
  {
   "cell_type": "code",
   "execution_count": 32,
   "id": "0d9800be-0808-4745-962e-dccbf1118737",
   "metadata": {},
   "outputs": [],
   "source": [
    "int = old_int"
   ]
  },
  {
   "cell_type": "markdown",
   "id": "de3c6b1b",
   "metadata": {},
   "source": [
    "Note: it wasn't obvious, a priori, what to expect for division and multiplication, since these are vectors. However, we see that it does element-wise multiplication and division.\n",
    "\n",
    "This isn't something we normally do in standard linear algebra, so let's so some of that with some 2x2 matrices."
   ]
  },
  {
   "cell_type": "code",
   "execution_count": 33,
   "id": "b2aa190b",
   "metadata": {},
   "outputs": [
    {
     "name": "stdout",
     "output_type": "stream",
     "text": [
      "[[0 2]\n",
      " [0 0]] \n",
      "\n",
      " [[7 2]\n",
      " [5 4]]\n"
     ]
    }
   ],
   "source": [
    "a, b = np.random.randint(0, 10, size=(2,2)), np.random.randint(0, 10, size=(2,2))\n",
    "print(a, \"\\n\\n\", b)"
   ]
  },
  {
   "cell_type": "markdown",
   "id": "fc8a2adc",
   "metadata": {},
   "source": [
    "We can always see the shape of an array with the `shape` attribute."
   ]
  },
  {
   "cell_type": "code",
   "execution_count": 34,
   "id": "0db90802",
   "metadata": {},
   "outputs": [
    {
     "data": {
      "text/plain": [
       "(2, 2)"
      ]
     },
     "execution_count": 34,
     "metadata": {},
     "output_type": "execute_result"
    }
   ],
   "source": [
    "a.shape"
   ]
  },
  {
   "cell_type": "markdown",
   "id": "e9f73029",
   "metadata": {},
   "source": [
    "Let's multiply"
   ]
  },
  {
   "cell_type": "code",
   "execution_count": 35,
   "id": "d50afa74",
   "metadata": {},
   "outputs": [
    {
     "data": {
      "text/plain": [
       "array([[10,  8],\n",
       "       [ 0,  0]])"
      ]
     },
     "execution_count": 35,
     "metadata": {},
     "output_type": "execute_result"
    }
   ],
   "source": [
    "a @ b"
   ]
  },
  {
   "cell_type": "code",
   "execution_count": 36,
   "id": "8458a868",
   "metadata": {},
   "outputs": [
    {
     "data": {
      "text/plain": [
       "array([[10,  8],\n",
       "       [ 0,  0]])"
      ]
     },
     "execution_count": 36,
     "metadata": {},
     "output_type": "execute_result"
    }
   ],
   "source": [
    "np.matmul(a, b)"
   ]
  },
  {
   "cell_type": "code",
   "execution_count": 37,
   "id": "860d5d0c-0eb9-4e8b-8532-f9c8cc605f41",
   "metadata": {},
   "outputs": [
    {
     "name": "stdout",
     "output_type": "stream",
     "text": [
      "['__call__', '__class__', '__delattr__', '__dir__', '__doc__', '__eq__', '__format__', '__ge__', '__getattribute__', '__getstate__', '__gt__', '__hash__', '__init__', '__init_subclass__', '__le__', '__lt__', '__module__', '__name__', '__ne__', '__new__', '__qualname__', '__reduce__', '__reduce_ex__', '__repr__', '__self__', '__setattr__', '__sizeof__', '__str__', '__subclasshook__', '__text_signature__']\n"
     ]
    }
   ],
   "source": [
    "import numpy as np\n",
    "print(dir(np.array))"
   ]
  },
  {
   "cell_type": "code",
   "execution_count": 38,
   "id": "1ec37ca0",
   "metadata": {},
   "outputs": [
    {
     "ename": "LinAlgError",
     "evalue": "Singular matrix",
     "output_type": "error",
     "traceback": [
      "\u001b[0;31m---------------------------------------------------------------------------\u001b[0m",
      "\u001b[0;31mLinAlgError\u001b[0m                               Traceback (most recent call last)",
      "\u001b[1;32m/home/jim/Dropbox/Documents/Job Related/Teaching/comp_phys/notebooks/Intro to Python/2_Lecture_2_Scientific Computing Libraries.ipynb Cell 24\u001b[0m line \u001b[0;36m1\n\u001b[0;32m----> <a href='vscode-notebook-cell:/home/jim/Dropbox/Documents/Job%20Related/Teaching/comp_phys/notebooks/Intro%20to%20Python/2_Lecture_2_Scientific%20Computing%20Libraries.ipynb#X32sZmlsZQ%3D%3D?line=0'>1</a>\u001b[0m a \u001b[39m@\u001b[39m np\u001b[39m.\u001b[39;49mlinalg\u001b[39m.\u001b[39;49minv(a)\n",
      "File \u001b[0;32m~/anaconda3/envs/COMP/lib/python3.11/site-packages/numpy/linalg/linalg.py:561\u001b[0m, in \u001b[0;36minv\u001b[0;34m(a)\u001b[0m\n\u001b[1;32m    559\u001b[0m signature \u001b[39m=\u001b[39m \u001b[39m'\u001b[39m\u001b[39mD->D\u001b[39m\u001b[39m'\u001b[39m \u001b[39mif\u001b[39;00m isComplexType(t) \u001b[39melse\u001b[39;00m \u001b[39m'\u001b[39m\u001b[39md->d\u001b[39m\u001b[39m'\u001b[39m\n\u001b[1;32m    560\u001b[0m extobj \u001b[39m=\u001b[39m get_linalg_error_extobj(_raise_linalgerror_singular)\n\u001b[0;32m--> 561\u001b[0m ainv \u001b[39m=\u001b[39m _umath_linalg\u001b[39m.\u001b[39;49minv(a, signature\u001b[39m=\u001b[39;49msignature, extobj\u001b[39m=\u001b[39;49mextobj)\n\u001b[1;32m    562\u001b[0m \u001b[39mreturn\u001b[39;00m wrap(ainv\u001b[39m.\u001b[39mastype(result_t, copy\u001b[39m=\u001b[39m\u001b[39mFalse\u001b[39;00m))\n",
      "File \u001b[0;32m~/anaconda3/envs/COMP/lib/python3.11/site-packages/numpy/linalg/linalg.py:112\u001b[0m, in \u001b[0;36m_raise_linalgerror_singular\u001b[0;34m(err, flag)\u001b[0m\n\u001b[1;32m    111\u001b[0m \u001b[39mdef\u001b[39;00m \u001b[39m_raise_linalgerror_singular\u001b[39m(err, flag):\n\u001b[0;32m--> 112\u001b[0m     \u001b[39mraise\u001b[39;00m LinAlgError(\u001b[39m\"\u001b[39m\u001b[39mSingular matrix\u001b[39m\u001b[39m\"\u001b[39m)\n",
      "\u001b[0;31mLinAlgError\u001b[0m: Singular matrix"
     ]
    }
   ],
   "source": [
    "a @ np.linalg.inv(a)"
   ]
  },
  {
   "cell_type": "markdown",
   "id": "b4eacdec",
   "metadata": {},
   "source": [
    "## Numpy Linear Algebra\n",
    "\n",
    "Ok, so we see the NumPy can do some linear algebra. What about some other operations?\n",
    "\n",
    "Some of the most essential operations in `np.linalg` are:\n",
    "- `np.linalg.inv`: Inverse of a matrix\n",
    "- `np.linalg.det`: Determinant of a matrix\n",
    "- `np.linalg.eig`: Eigenvalues and eigenvectors of a matrix\n",
    "- `np.linalg.solve`: Solve a linear system of equations\n",
    "\n",
    "We saw the first, let's see the rest"
   ]
  },
  {
   "cell_type": "code",
   "execution_count": 39,
   "id": "0c03a332",
   "metadata": {},
   "outputs": [
    {
     "data": {
      "text/plain": [
       "array([[0, 2],\n",
       "       [0, 0]])"
      ]
     },
     "execution_count": 39,
     "metadata": {},
     "output_type": "execute_result"
    }
   ],
   "source": [
    "a"
   ]
  },
  {
   "cell_type": "code",
   "execution_count": 40,
   "id": "c1af1d41",
   "metadata": {},
   "outputs": [
    {
     "data": {
      "text/plain": [
       "0.0"
      ]
     },
     "execution_count": 40,
     "metadata": {},
     "output_type": "execute_result"
    }
   ],
   "source": [
    "np.linalg.det(a)"
   ]
  },
  {
   "cell_type": "code",
   "execution_count": 41,
   "id": "8c0d950f",
   "metadata": {},
   "outputs": [
    {
     "data": {
      "text/plain": [
       "EigResult(eigenvalues=array([0., 0.]), eigenvectors=array([[ 1.00000000e+000, -1.00000000e+000],\n",
       "       [ 0.00000000e+000,  1.00208418e-292]]))"
      ]
     },
     "execution_count": 41,
     "metadata": {},
     "output_type": "execute_result"
    }
   ],
   "source": [
    "np.linalg.eig(a)"
   ]
  },
  {
   "cell_type": "code",
   "execution_count": 42,
   "id": "5b549f84",
   "metadata": {},
   "outputs": [
    {
     "name": "stdout",
     "output_type": "stream",
     "text": [
      "Left: [0. 0.]\n",
      "Right: [0. 0.]\n",
      "Left: [2.00416836e-292 0.00000000e+000]\n",
      "Right: [-0.  0.]\n"
     ]
    }
   ],
   "source": [
    "# check the eigenvectors\n",
    "eigvals, eigvecs = np.linalg.eig(a)\n",
    "for i in range(len(eigvals)):\n",
    "    print(\"Left:\", np.dot(a, eigvecs[:,i]))\n",
    "    print(\"Right:\", eigvals[i]*eigvecs[:,i])"
   ]
  },
  {
   "cell_type": "markdown",
   "id": "6ceea5ce",
   "metadata": {},
   "source": [
    "In this syntax `eigvecs[:,i]` means \"all rows, column i\". This is a common syntax in python, and is called \"slicing\". We'll see it again later.\n",
    "\n",
    "In the context of this eigenvalue problem, if we're not careful we can do the wrong thing, because eigvecs is a matrix and we need to be careful whether the rows or columns are the eigenvectors. Let's see what happens if we do the wrong thing."
   ]
  },
  {
   "cell_type": "code",
   "execution_count": 43,
   "id": "e7b5b02c",
   "metadata": {},
   "outputs": [
    {
     "name": "stdout",
     "output_type": "stream",
     "text": [
      "Left: [-2.  0.]\n",
      "Right: [ 0. -0.]\n",
      "Left: [2.00416836e-292 0.00000000e+000]\n",
      "Right: [0. 0.]\n"
     ]
    }
   ],
   "source": [
    "# check the eigenvectors\n",
    "eigvals, eigvecs = np.linalg.eig(a)\n",
    "for i in range(len(eigvals)):\n",
    "    print(\"Left:\", np.dot(a, eigvecs[i]))\n",
    "    print(\"Right:\", eigvals[i]*eigvecs[i])"
   ]
  },
  {
   "cell_type": "markdown",
   "id": "5bef681b",
   "metadata": {},
   "source": [
    "We see these clearly don't match.\n",
    "\n",
    "So: just be careful. Simple tests can always help you sort things out"
   ]
  },
  {
   "cell_type": "code",
   "execution_count": 44,
   "id": "4f0df875",
   "metadata": {},
   "outputs": [
    {
     "data": {
      "text/plain": [
       "array([[ 1.00000000e+000, -1.00000000e+000],\n",
       "       [ 0.00000000e+000,  1.00208418e-292]])"
      ]
     },
     "execution_count": 44,
     "metadata": {},
     "output_type": "execute_result"
    }
   ],
   "source": [
    "eigvecs"
   ]
  },
  {
   "cell_type": "code",
   "execution_count": 45,
   "id": "4bdba75a",
   "metadata": {},
   "outputs": [
    {
     "data": {
      "text/plain": [
       "array([ 1., -1.])"
      ]
     },
     "execution_count": 45,
     "metadata": {},
     "output_type": "execute_result"
    }
   ],
   "source": [
    "eigvecs[0]"
   ]
  },
  {
   "cell_type": "code",
   "execution_count": 46,
   "id": "c0106d25",
   "metadata": {},
   "outputs": [
    {
     "data": {
      "text/plain": [
       "array([1., 0.])"
      ]
     },
     "execution_count": 46,
     "metadata": {},
     "output_type": "execute_result"
    }
   ],
   "source": [
    "eigvecs[:,0]"
   ]
  },
  {
   "cell_type": "markdown",
   "id": "a538a773",
   "metadata": {},
   "source": [
    "## Numpy Statistics\n",
    "\n",
    "Some of the essential statistical tools in numpy are in `np.random` and `np.linalg`. We'll see some of these in action. Some of the most essential functions are:\n",
    "- `np.random.rand`: Uniform random numbers in [0,1]\n",
    "- `np.random.randn`: Standard normal random numbers\n",
    "- `np.random.randint`: Random integers\n",
    "- `np.random.choice`: Random choice from an array\n",
    "- `np.random.shuffle`: Randomly shuffle an array\n",
    "- `np.random.seed`: Set the random seed\n",
    "- `np.mean`: Mean of an array\n",
    "- `np.std`: Standard deviation of an array\n",
    "- `np.var`: Variance of an array, which is the square of the standard deviation\n",
    "- `np.cov`: Covariance matrix of an array, which is a matrix of all pairwise covariances. The diagional part of the covariance matrix is the variance of each variable."
   ]
  },
  {
   "cell_type": "code",
   "execution_count": 47,
   "id": "49ac1779",
   "metadata": {},
   "outputs": [
    {
     "name": "stdout",
     "output_type": "stream",
     "text": [
      "[[7 7 5]\n",
      " [9 8 4]\n",
      " [8 4 8]]\n"
     ]
    }
   ],
   "source": [
    "a = np.random.randint(1, 10, size= (3,3))\n",
    "print(a)"
   ]
  },
  {
   "cell_type": "code",
   "execution_count": 48,
   "id": "b9b59efb",
   "metadata": {},
   "outputs": [
    {
     "name": "stdout",
     "output_type": "stream",
     "text": [
      "[[8 4 8]\n",
      " [9 8 4]\n",
      " [7 7 5]]\n"
     ]
    }
   ],
   "source": [
    "np.random.shuffle(a)\n",
    "print(a)"
   ]
  },
  {
   "cell_type": "markdown",
   "id": "e0ef7e6b",
   "metadata": {},
   "source": [
    "Let's play with mean"
   ]
  },
  {
   "cell_type": "code",
   "execution_count": 49,
   "id": "beab178a",
   "metadata": {},
   "outputs": [
    {
     "data": {
      "text/plain": [
       "6.666666666666667"
      ]
     },
     "execution_count": 49,
     "metadata": {},
     "output_type": "execute_result"
    }
   ],
   "source": [
    "np.mean(a)"
   ]
  },
  {
   "cell_type": "markdown",
   "id": "022f7082",
   "metadata": {},
   "source": [
    "That's the mean of the whole thing! What if we want the mean of each row?"
   ]
  },
  {
   "cell_type": "code",
   "execution_count": 50,
   "id": "96fb5e41",
   "metadata": {},
   "outputs": [
    {
     "data": {
      "text/plain": [
       "array([6.66666667, 7.        , 6.33333333])"
      ]
     },
     "execution_count": 50,
     "metadata": {},
     "output_type": "execute_result"
    }
   ],
   "source": [
    "np.mean(a, axis=1)"
   ]
  },
  {
   "cell_type": "markdown",
   "id": "d68fc704",
   "metadata": {},
   "source": [
    "And the mean of each column?"
   ]
  },
  {
   "cell_type": "code",
   "execution_count": 51,
   "id": "a2abf3b0",
   "metadata": {},
   "outputs": [
    {
     "data": {
      "text/plain": [
       "array([6.66666667, 7.        , 6.33333333])"
      ]
     },
     "execution_count": 51,
     "metadata": {},
     "output_type": "execute_result"
    }
   ],
   "source": [
    "np.mean(a, axis=1)"
   ]
  },
  {
   "cell_type": "markdown",
   "id": "d0256603",
   "metadata": {},
   "source": [
    "These shapes are the same, so be careful.\n",
    "\n",
    "A lot of the other functions take an axis argument in a similar way."
   ]
  },
  {
   "cell_type": "markdown",
   "id": "7ef9fc20",
   "metadata": {},
   "source": [
    "Let's check out choice"
   ]
  },
  {
   "cell_type": "code",
   "execution_count": 52,
   "id": "ec06c176",
   "metadata": {},
   "outputs": [
    {
     "name": "stdout",
     "output_type": "stream",
     "text": [
      "[2 5 1 3 2]\n",
      "[3 4 1 2 5]\n"
     ]
    }
   ],
   "source": [
    "a = np.array([1,2,3,4,5])\n",
    "print(np.random.choice(a,5))\n",
    "print(np.random.choice(a,5, replace=False))"
   ]
  },
  {
   "cell_type": "markdown",
   "id": "9d6c1838",
   "metadata": {},
   "source": [
    "## Numpy Code Lab\n",
    "\n",
    "Let's do a simple example from quantum mechanics. The problem is perturbation theory,\n",
    "\n",
    "$H = H_0 + \\lambda H_1$\n",
    "\n",
    "where $H$ is the Hamiltonian and $\\lambda$ is a small parameter if perturbation theory is to work. If this is a good idea, it should work pretty well for *any* Hermitian $H_0$ and $H_1$. So we'll make them random Hermitian 3x3 matrices and see what happens."
   ]
  },
  {
   "cell_type": "code",
   "execution_count": 53,
   "id": "a6bc8aec",
   "metadata": {},
   "outputs": [
    {
     "name": "stdout",
     "output_type": "stream",
     "text": [
      "[[ 0.06863751 -0.37393934  0.05373774]\n",
      " [-0.37393934 -1.30286872 -0.99065994]\n",
      " [ 0.05373774 -0.99065994  0.78188188]]\n"
     ]
    }
   ],
   "source": [
    "H0 = np.random.normal(0, 1, size=(3,3))\n",
    "H0 = H0 + H0.T # make symmetric\n",
    "print(H0)"
   ]
  },
  {
   "cell_type": "code",
   "execution_count": 54,
   "id": "a487938c",
   "metadata": {},
   "outputs": [
    {
     "name": "stdout",
     "output_type": "stream",
     "text": [
      "[[-0.46320525  0.6200912   3.67934964]\n",
      " [ 0.6200912   1.56624293  1.55747268]\n",
      " [ 3.67934964  1.55747268  0.16479807]]\n"
     ]
    }
   ],
   "source": [
    "H1 = np.random.normal(0, 1, size=(3,3))\n",
    "H1 = H1 + H1.T # make symmetric\n",
    "print(H1)"
   ]
  },
  {
   "cell_type": "code",
   "execution_count": 55,
   "id": "38c9532d",
   "metadata": {},
   "outputs": [
    {
     "name": "stdout",
     "output_type": "stream",
     "text": [
      "\n",
      "lambda: 1\n",
      "H0_diag:\n",
      " [[-1.75759511e+00  2.22044605e-16  1.11022302e-16]\n",
      " [ 2.43728648e-16  9.54898645e-02  1.11022302e-16]\n",
      " [ 5.55111512e-17  1.38777878e-16  1.20975591e+00]]\n",
      "Exact Energies: [ 4.15916909 -3.52495707  0.1812744 ]\n",
      "Perturbed Energies: [ 1.24735115 -1.95540663  1.5235419 ]\n",
      "\n",
      "lambda: 0.1\n",
      "H0_diag:\n",
      " [[-1.75759511e+00  2.22044605e-16  1.11022302e-16]\n",
      " [ 2.43728648e-16  9.54898645e-02  1.11022302e-16]\n",
      " [ 5.55111512e-17  1.38777878e-16  1.20975591e+00]]\n",
      "Exact Energies: [ 1.30646384 -0.16121612 -1.47081349]\n",
      "Perturbed Energies: [-1.45710049 -0.10959979  1.24113451]\n",
      "\n",
      "lambda: 0.01\n",
      "H0_diag:\n",
      " [[-1.75759511e+00  2.22044605e-16  1.11022302e-16]\n",
      " [ 2.43728648e-16  9.54898645e-02  1.11022302e-16]\n",
      " [ 5.55111512e-17  1.38777878e-16  1.20975591e+00]]\n",
      "Exact Energies: [-1.72767554  0.07434782  1.21365674]\n",
      "Perturbed Energies: [-1.72754565  0.0749809   1.21289377]\n",
      "\n",
      "lambda: 0.001\n",
      "H0_diag:\n",
      " [[-1.75759511e+00  2.22044605e-16  1.11022302e-16]\n",
      " [ 2.43728648e-16  9.54898645e-02  1.11022302e-16]\n",
      " [ 5.55111512e-17  1.38777878e-16  1.20975591e+00]]\n",
      "Exact Energies: [-1.75459146  0.09343252  1.21007744]\n",
      "Perturbed Energies: [-1.75459017  0.09343897  1.2100697 ]\n"
     ]
    }
   ],
   "source": [
    "lambdas =[10**-k for k in range(0,4)]\n",
    "for lam in lambdas:\n",
    "    H = H0 + lam*H1\n",
    "    H_evals, H_evecs = np.linalg.eig(H)\n",
    "\n",
    "    H0_evals, H0_evecs = np.linalg.eig(H0)\n",
    "    H0_diag = H0_evecs.T@H0@H0_evecs\n",
    "\n",
    "    PT_matrix_elements = H0_evecs.T @ H0 @ H0_evecs + lam*H0_evecs.T@H1@H0_evecs\n",
    "    H_evals_PT = np.diag(PT_matrix_elements)\n",
    "\n",
    "    print(\"\\nlambda:\", lam)\n",
    "    print(\"H0_diag:\\n\", H0_diag)\n",
    "    print(\"Exact Energies:\", H_evals)\n",
    "    print(\"Perturbed Energies:\", H_evals_PT)"
   ]
  },
  {
   "cell_type": "markdown",
   "id": "f74f7178",
   "metadata": {},
   "source": [
    "We see it with our naked eye. Let's make it more quantitative by computing mean squared error of the exact energies relative to the perturbation theory energies, and plotting it"
   ]
  },
  {
   "cell_type": "code",
   "execution_count": 56,
   "id": "76e25e89",
   "metadata": {},
   "outputs": [
    {
     "data": {
      "image/png": "[encoded data removed]",
      "text/plain": [
       "<Figure size 640x480 with 1 Axes>"
      ]
     },
     "metadata": {},
     "output_type": "display_data"
    }
   ],
   "source": [
    "from matplotlib import pyplot as plt \n",
    "\n",
    "lambdas =[10**-k for k in range(0,20)]\n",
    "avg_mses = []\n",
    "for lam in lambdas:\n",
    "    H = H0 + lam*H1\n",
    "    H_evals, H_evecs = np.linalg.eig(H)\n",
    "\n",
    "    H0_evals, H0_evecs = np.linalg.eig(H0)\n",
    "    H0_diag = H0_evecs.T@H0@H0_evecs\n",
    "\n",
    "    PT_matrix_elements = H0_evecs.T @ H0 @ H0_evecs + lam*H0_evecs.T@H1@H0_evecs\n",
    "    H_evals_PT = np.diag(PT_matrix_elements)\n",
    "\n",
    "    avg_mse = np.mean((H_evals - H_evals_PT)**2)\n",
    "    avg_mses.append(avg_mse)\n",
    "\n",
    "plt.scatter(lambdas, avg_mses)\n",
    "plt.title(\"MSE of energies vs lambda\")\n",
    "plt.xlabel(\"lambda\")\n",
    "plt.ylabel(\"MSE\")\n",
    "plt.yscale(\"log\")\n",
    "plt.xscale(\"log\")\n",
    "plt.show()"
   ]
  },
  {
   "cell_type": "markdown",
   "id": "c6d158c2",
   "metadata": {},
   "source": [
    "We see that when $\\lambda$ is small, the perturbation theory energies are a good approximation to the exact energies, but when $\\lambda$ is $\\mathcal{O}(1)$, the MSE is large. \n",
    "\n",
    "This is a good sanity check, but we need to actually show that the corrections are $O(\\lambda^2)$ if we did everything right. So let's do one more calculation, and remember to take the sqrt of the MSE for the sake of units."
   ]
  },
  {
   "cell_type": "code",
   "execution_count": 73,
   "id": "1979de39",
   "metadata": {},
   "outputs": [
    {
     "data": {
      "image/png": "[encoded data removed]",
      "text/plain": [
       "<Figure size 640x480 with 1 Axes>"
      ]
     },
     "metadata": {},
     "output_type": "display_data"
    },
    {
     "name": "stdout",
     "output_type": "stream",
     "text": [
      "[1.99830287 0.70526451]\n"
     ]
    }
   ],
   "source": [
    "from matplotlib import pyplot as plt \n",
    "\n",
    "lambdas =[2**-k for k in range(6,20)] # denser lambdas, range chosen to get nice line\n",
    "avg_sqrtmses = []\n",
    "for lam in lambdas:\n",
    "    H = H0 + lam*H1\n",
    "    H_evals, H_evecs = np.linalg.eig(H)\n",
    "\n",
    "    H0_evals, H0_evecs = np.linalg.eig(H0)\n",
    "    H0_diag = H0_evecs.T@H0@H0_evecs\n",
    "\n",
    "    PT_matrix_elements = H0_evecs.T @ H0 @ H0_evecs + lam*H0_evecs.T@H1@H0_evecs\n",
    "    H_evals_PT = np.diag(PT_matrix_elements)\n",
    "\n",
    "    avg_sqrtmse = np.mean(np.sqrt(((H_evals - H_evals_PT)**2)))\n",
    "    avg_sqrtmses.append(avg_sqrtmse)\n",
    "\n",
    "plt.scatter(lambdas, avg_sqrtmses)\n",
    "plt.xscale('log')\n",
    "plt.yscale('log')\n",
    "plt.show()\n",
    "\n",
    "best_fit_line = np.polyfit(np.log10(lambdas), np.log10(avg_sqrtmses), 1)\n",
    "print(best_fit_line)"
   ]
  },
  {
   "cell_type": "markdown",
   "id": "8c1bbb79",
   "metadata": {},
   "source": [
    "## SciPy Special Function\n",
    "\n",
    "We'll play with SciPy special functions using the simply harmonic oscillator. The wavefunctions are given by Hermite polynomials times Gaussians, which are implemented in `scipy.special.hermite`. Let's plot the first few."
   ]
  },
  {
   "cell_type": "code",
   "execution_count": null,
   "id": "8810cfce",
   "metadata": {},
   "outputs": [],
   "source": [
    "import math\n",
    "import scipy\n",
    "\n",
    "# set default dpi to 50\n",
    "plt.rcParams['figure.dpi'] = 50\n",
    "\n",
    "hermite_polys = [scipy.special.hermite(k) for k in range(0,5)]\n",
    "\n",
    "def SHO_wvfn(x,n):\n",
    "    unnorm = np.exp(-x**2/2.0) * hermite_polys[n](x)\n",
    "    return unnorm / np.sqrt(np.sum(unnorm**2))"
   ]
  },
  {
   "cell_type": "code",
   "execution_count": null,
   "id": "0a23fd8d",
   "metadata": {},
   "outputs": [
    {
     "name": "stdout",
     "output_type": "stream",
     "text": [
      "[-5.         -1.66666667  1.66666667  5.        ]\n"
     ]
    }
   ],
   "source": [
    "x = np.linspace(-5,5,4)\n",
    "print(x)"
   ]
  },
  {
   "cell_type": "code",
   "execution_count": null,
   "id": "ef7122c8",
   "metadata": {},
   "outputs": [
    {
     "data": {
      "image/png": "[encoded data removed]",
      "text/plain": [
       "<Figure size 320x240 with 1 Axes>"
      ]
     },
     "metadata": {},
     "output_type": "display_data"
    },
    {
     "data": {
      "image/png": "[encoded data removed]",
      "text/plain": [
       "<Figure size 320x240 with 1 Axes>"
      ]
     },
     "metadata": {},
     "output_type": "display_data"
    },
    {
     "data": {
      "image/png": "[encoded data removed]",
      "text/plain": [
       "<Figure size 320x240 with 1 Axes>"
      ]
     },
     "metadata": {},
     "output_type": "display_data"
    },
    {
     "data": {
      "image/png": "[encoded data removed]",
      "text/plain": [
       "<Figure size 320x240 with 1 Axes>"
      ]
     },
     "metadata": {},
     "output_type": "display_data"
    },
    {
     "data": {
      "image/png": "[encoded data removed]",
      "text/plain": [
       "<Figure size 320x240 with 1 Axes>"
      ]
     },
     "metadata": {},
     "output_type": "display_data"
    }
   ],
   "source": [
    "x = np.linspace(-5,5, 101)\n",
    "\n",
    "wvfns = [SHO_wvfn(x,n ) for n in range(0,5)]\n",
    "for y in wvfns:\n",
    "    plt.scatter(x,y)\n",
    "    plt.show()\n",
    "\n"
   ]
  },
  {
   "cell_type": "markdown",
   "id": "39d90312",
   "metadata": {},
   "source": [
    "# SymPy\n",
    "\n",
    "SymPy is a Python library for symbolic mathematics. It aims to become a full-featured computer algebra system (CAS) while keeping the code as simple as possible in order to be comprehensible and easily extensible. SymPy is written entirely in Python and does not require any external libraries.\n",
    "\n",
    "Some of the essential things you can do with it are:\n",
    "- Symbolic algebra\n",
    "- Calculus\n",
    "- Solving equations\n",
    "- Discrete math\n",
    "- Geometry"
   ]
  },
  {
   "cell_type": "markdown",
   "id": "5046674f",
   "metadata": {},
   "source": [
    "Symbolic Algebra Example"
   ]
  },
  {
   "cell_type": "code",
   "execution_count": null,
   "id": "abc288bb",
   "metadata": {},
   "outputs": [
    {
     "name": "stdout",
     "output_type": "stream",
     "text": [
      "Requirement already satisfied: sympy in /Users/jim/anaconda3/envs/COMP/lib/python3.11/site-packages (1.12)\n",
      "Requirement already satisfied: mpmath>=0.19 in /Users/jim/anaconda3/envs/COMP/lib/python3.11/site-packages (from sympy) (1.3.0)\n"
     ]
    }
   ],
   "source": [
    "!pip install sympy"
   ]
  },
  {
   "cell_type": "code",
   "execution_count": null,
   "id": "52b2eb72",
   "metadata": {},
   "outputs": [
    {
     "name": "stdout",
     "output_type": "stream",
     "text": [
      "(x + y)**2\n"
     ]
    }
   ],
   "source": [
    "import sympy as sp \n",
    "\n",
    "x, y, z = sp.symbols(\"x y z\")\n",
    "expr = (x+y)**2\n",
    "print(expr)"
   ]
  },
  {
   "cell_type": "code",
   "execution_count": null,
   "id": "6c59ab6b",
   "metadata": {},
   "outputs": [
    {
     "name": "stdout",
     "output_type": "stream",
     "text": [
      "x**2 + 2*x*y + y**2\n",
      " 2            2\n",
      "x  + 2⋅x⋅y + y \n"
     ]
    }
   ],
   "source": [
    "expr2 = expr.expand()\n",
    "print(expr2)"
   ]
  },
  {
   "cell_type": "code",
   "execution_count": null,
   "id": "3d235c54",
   "metadata": {},
   "outputs": [
    {
     "data": {
      "text/plain": [
       "'\\\\left(x + y\\\\right)^{2}'"
      ]
     },
     "execution_count": 80,
     "metadata": {},
     "output_type": "execute_result"
    }
   ],
   "source": [
    "sp.latex(expr)"
   ]
  },
  {
   "cell_type": "code",
   "execution_count": null,
   "id": "0d19f394",
   "metadata": {},
   "outputs": [
    {
     "data": {
      "text/latex": [
       "$\\displaystyle \\left(x + y\\right)^{2}$"
      ],
      "text/plain": [
       "(x + y)**2"
      ]
     },
     "execution_count": 71,
     "metadata": {},
     "output_type": "execute_result"
    }
   ],
   "source": [
    "expr2.factor()"
   ]
  },
  {
   "cell_type": "code",
   "execution_count": null,
   "id": "0b982c53",
   "metadata": {},
   "outputs": [
    {
     "data": {
      "text/latex": [
       "$\\displaystyle 2 x + 2 y$"
      ],
      "text/plain": [
       "2*x + 2*y"
      ]
     },
     "execution_count": 72,
     "metadata": {},
     "output_type": "execute_result"
    }
   ],
   "source": [
    "expr2.diff(x)"
   ]
  },
  {
   "cell_type": "code",
   "execution_count": null,
   "id": "e3b65d7b",
   "metadata": {},
   "outputs": [
    {
     "data": {
      "text/latex": [
       "$\\displaystyle \\frac{x^{3}}{3} + x^{2} y + x y^{2}$"
      ],
      "text/plain": [
       "x**3/3 + x**2*y + x*y**2"
      ]
     },
     "execution_count": 73,
     "metadata": {},
     "output_type": "execute_result"
    }
   ],
   "source": [
    "expr2.integrate(x)"
   ]
  },
  {
   "cell_type": "code",
   "execution_count": null,
   "id": "e9ce1254",
   "metadata": {},
   "outputs": [
    {
     "data": {
      "text/latex": [
       "$\\displaystyle 2$"
      ],
      "text/plain": [
       "2"
      ]
     },
     "execution_count": 74,
     "metadata": {},
     "output_type": "execute_result"
    }
   ],
   "source": [
    "expr2.diff(x).diff(y)"
   ]
  },
  {
   "cell_type": "markdown",
   "id": "1f02d75e",
   "metadata": {},
   "source": [
    "Let's try to solve some equations."
   ]
  },
  {
   "cell_type": "code",
   "execution_count": null,
   "id": "2a98515c",
   "metadata": {},
   "outputs": [
    {
     "name": "stdout",
     "output_type": "stream",
     "text": [
      "[(-sqrt(2)/2, -sqrt(2)/2), (-sqrt(2)/2, sqrt(2)/2), (sqrt(2)/2, -sqrt(2)/2), (sqrt(2)/2, sqrt(2)/2)]\n"
     ]
    }
   ],
   "source": [
    "eqn1 = sp.Eq(x**2+y**2,1) # x^2 + y^2 = 1\n",
    "eqn2 = sp.Eq(x**2-y**2, 0) # x^2 - y^2 = 0\n",
    "soln = sp.solve([eqn1,eqn2],[x,y])\n",
    "print(soln)"
   ]
  },
  {
   "cell_type": "markdown",
   "id": "c8be6609",
   "metadata": {},
   "source": [
    "Let's do some discrete math"
   ]
  },
  {
   "cell_type": "code",
   "execution_count": null,
   "id": "48492fc3",
   "metadata": {},
   "outputs": [],
   "source": [
    "import sympy.combinatorics as comb"
   ]
  },
  {
   "cell_type": "code",
   "execution_count": null,
   "id": "1e0c8902",
   "metadata": {},
   "outputs": [],
   "source": [
    "G = comb.DihedralGroup(4)"
   ]
  },
  {
   "cell_type": "code",
   "execution_count": null,
   "id": "fe15a4c6",
   "metadata": {},
   "outputs": [
    {
     "data": {
      "text/plain": [
       "[Permutation(0, 1, 2, 3), Permutation(0, 3)(1, 2)]"
      ]
     },
     "execution_count": 84,
     "metadata": {},
     "output_type": "execute_result"
    }
   ],
   "source": [
    "G.generators"
   ]
  },
  {
   "cell_type": "markdown",
   "id": "e683e4f9",
   "metadata": {},
   "source": [
    "Remember that the Dihedral group D(4) is the group of symmetries of a square. What do you think these generators above mean? How can we check this idea?"
   ]
  },
  {
   "cell_type": "code",
   "execution_count": null,
   "id": "fb15b1f4",
   "metadata": {},
   "outputs": [],
   "source": [
    "rot, flip = G.generators"
   ]
  },
  {
   "cell_type": "code",
   "execution_count": null,
   "id": "f8e066f5",
   "metadata": {},
   "outputs": [
    {
     "data": {
      "text/latex": [
       "$\\displaystyle \\left( 0\\; 2\\right)\\left( 1\\; 3\\right)$"
      ],
      "text/plain": [
       "Permutation(0, 2)(1, 3)"
      ]
     },
     "execution_count": 86,
     "metadata": {},
     "output_type": "execute_result"
    }
   ],
   "source": [
    "rot*rot"
   ]
  },
  {
   "cell_type": "code",
   "execution_count": null,
   "id": "9a4404e2",
   "metadata": {},
   "outputs": [
    {
     "data": {
      "text/latex": [
       "$\\displaystyle \\left( 0\\; 3\\; 2\\; 1\\right)$"
      ],
      "text/plain": [
       "Permutation(0, 3, 2, 1)"
      ]
     },
     "execution_count": 87,
     "metadata": {},
     "output_type": "execute_result"
    }
   ],
   "source": [
    "rot*rot*rot"
   ]
  },
  {
   "cell_type": "code",
   "execution_count": null,
   "id": "4a237ff4",
   "metadata": {},
   "outputs": [
    {
     "data": {
      "text/latex": [
       "$\\displaystyle \\left( 3\\right)$"
      ],
      "text/plain": [
       "Permutation(3)"
      ]
     },
     "execution_count": 88,
     "metadata": {},
     "output_type": "execute_result"
    }
   ],
   "source": [
    "rot*rot*rot*rot"
   ]
  },
  {
   "cell_type": "code",
   "execution_count": null,
   "id": "928b38ca",
   "metadata": {},
   "outputs": [
    {
     "data": {
      "text/plain": [
       "True"
      ]
     },
     "execution_count": 89,
     "metadata": {},
     "output_type": "execute_result"
    }
   ],
   "source": [
    "rot*rot*rot*rot == G.identity"
   ]
  },
  {
   "cell_type": "code",
   "execution_count": null,
   "id": "3fa20f34",
   "metadata": {},
   "outputs": [
    {
     "data": {
      "text/latex": [
       "$\\displaystyle \\left( 0\\; 3\\right)\\left( 1\\; 2\\right)$"
      ],
      "text/plain": [
       "Permutation(0, 3)(1, 2)"
      ]
     },
     "execution_count": 90,
     "metadata": {},
     "output_type": "execute_result"
    }
   ],
   "source": [
    "flip"
   ]
  },
  {
   "cell_type": "code",
   "execution_count": null,
   "id": "ee65faff",
   "metadata": {},
   "outputs": [
    {
     "data": {
      "text/plain": [
       "True"
      ]
     },
     "execution_count": 91,
     "metadata": {},
     "output_type": "execute_result"
    }
   ],
   "source": [
    "flip*flip == G.identity"
   ]
  },
  {
   "cell_type": "markdown",
   "id": "3bb3c91d",
   "metadata": {},
   "source": [
    "We see that the generators rot and flip of the group D(4) satisfy the relations we expect:\n",
    "\n",
    "$r^4=1, \\qquad f^2=1$ \n",
    "\n",
    "This is a good sanity check."
   ]
  },
  {
   "cell_type": "code",
   "execution_count": null,
   "id": "0828f2bf",
   "metadata": {},
   "outputs": [],
   "source": [
    "import sympy.geometry as geom"
   ]
  },
  {
   "cell_type": "code",
   "execution_count": null,
   "id": "937a96ae",
   "metadata": {},
   "outputs": [
    {
     "data": {
      "image/svg+xml": [
       "<svg xmlns=\"http://www.w3.org/2000/svg\"\n",
       "            xmlns:xlink=\"http://www.w3.org/1999/xlink\"\n",
       "            width=\"100.0\" height=\"100.0\" viewBox=\"-0.100000000000000 -0.100000000000000 1.20000000000000 1.20000000000000\"\n",
       "            preserveAspectRatio=\"xMinYMin meet\">\n",
       "            <defs>\n",
       "                <marker id=\"markerCircle\" markerWidth=\"8\" markerHeight=\"8\"\n",
       "                    refx=\"5\" refy=\"5\" markerUnits=\"strokeWidth\">\n",
       "                    <circle cx=\"5\" cy=\"5\" r=\"1.5\" style=\"stroke: none; fill:#000000;\"/>\n",
       "                </marker>\n",
       "                <marker id=\"markerArrow\" markerWidth=\"13\" markerHeight=\"13\" refx=\"2\" refy=\"4\"\n",
       "                       orient=\"auto\" markerUnits=\"strokeWidth\">\n",
       "                    <path d=\"M2,2 L2,6 L6,4\" style=\"fill: #000000;\" />\n",
       "                </marker>\n",
       "                <marker id=\"markerReverseArrow\" markerWidth=\"13\" markerHeight=\"13\" refx=\"6\" refy=\"4\"\n",
       "                       orient=\"auto\" markerUnits=\"strokeWidth\">\n",
       "                    <path d=\"M6,2 L6,6 L2,4\" style=\"fill: #000000;\" />\n",
       "                </marker>\n",
       "            </defs><g transform=\"matrix(1,0,0,-1,0,1.00000000000000)\"><path fill-rule=\"evenodd\" fill=\"#66cc99\" stroke=\"#555555\" stroke-width=\"0.0240000000000000\" opacity=\"0.6\" d=\"M 0,0 L 1.00000000000000,0 L 0,1.00000000000000 z\" /></g></svg>"
      ],
      "text/latex": [
       "$\\displaystyle \\operatorname{Triangle}\\left(\\operatorname{Point2D}\\left(0, 0\\right), \\operatorname{Point2D}\\left(1, 0\\right), \\operatorname{Point2D}\\left(0, 1\\right)\\right)$"
      ],
      "text/plain": [
       "Triangle(Point2D(0, 0), Point2D(1, 0), Point2D(0, 1))"
      ]
     },
     "execution_count": 93,
     "metadata": {},
     "output_type": "execute_result"
    }
   ],
   "source": [
    "geom.convex_hull(geom.Point(0,0),geom.Point(1,0),geom.Point(0,1))"
   ]
  },
  {
   "cell_type": "markdown",
   "id": "daa11baa",
   "metadata": {},
   "source": [
    "Let's check convexity of the hull by putting an interior point inside and making sure it doesn't make it concave"
   ]
  },
  {
   "cell_type": "code",
   "execution_count": null,
   "id": "a481533b",
   "metadata": {},
   "outputs": [
    {
     "data": {
      "image/svg+xml": [
       "<svg xmlns=\"http://www.w3.org/2000/svg\"\n",
       "            xmlns:xlink=\"http://www.w3.org/1999/xlink\"\n",
       "            width=\"100.0\" height=\"100.0\" viewBox=\"-0.100000000000000 -0.100000000000000 1.20000000000000 1.20000000000000\"\n",
       "            preserveAspectRatio=\"xMinYMin meet\">\n",
       "            <defs>\n",
       "                <marker id=\"markerCircle\" markerWidth=\"8\" markerHeight=\"8\"\n",
       "                    refx=\"5\" refy=\"5\" markerUnits=\"strokeWidth\">\n",
       "                    <circle cx=\"5\" cy=\"5\" r=\"1.5\" style=\"stroke: none; fill:#000000;\"/>\n",
       "                </marker>\n",
       "                <marker id=\"markerArrow\" markerWidth=\"13\" markerHeight=\"13\" refx=\"2\" refy=\"4\"\n",
       "                       orient=\"auto\" markerUnits=\"strokeWidth\">\n",
       "                    <path d=\"M2,2 L2,6 L6,4\" style=\"fill: #000000;\" />\n",
       "                </marker>\n",
       "                <marker id=\"markerReverseArrow\" markerWidth=\"13\" markerHeight=\"13\" refx=\"6\" refy=\"4\"\n",
       "                       orient=\"auto\" markerUnits=\"strokeWidth\">\n",
       "                    <path d=\"M6,2 L6,6 L2,4\" style=\"fill: #000000;\" />\n",
       "                </marker>\n",
       "            </defs><g transform=\"matrix(1,0,0,-1,0,1.00000000000000)\"><path fill-rule=\"evenodd\" fill=\"#66cc99\" stroke=\"#555555\" stroke-width=\"0.0240000000000000\" opacity=\"0.6\" d=\"M 0,0 L 1.00000000000000,0 L 0,1.00000000000000 z\" /></g></svg>"
      ],
      "text/latex": [
       "$\\displaystyle \\operatorname{Triangle}\\left(\\operatorname{Point2D}\\left(0, 0\\right), \\operatorname{Point2D}\\left(1, 0\\right), \\operatorname{Point2D}\\left(0, 1\\right)\\right)$"
      ],
      "text/plain": [
       "Triangle(Point2D(0, 0), Point2D(1, 0), Point2D(0, 1))"
      ]
     },
     "execution_count": 96,
     "metadata": {},
     "output_type": "execute_result"
    }
   ],
   "source": [
    "geom.convex_hull(geom.Point(0,0),geom.Point(1,0),geom.Point(0,1),geom.Point(0.5,0.5))"
   ]
  },
  {
   "cell_type": "markdown",
   "id": "faab6db5",
   "metadata": {},
   "source": [
    "Same thing! of course it is, because we just added an interior point, which doesn't change the convex hull."
   ]
  },
  {
   "cell_type": "markdown",
   "id": "f6067b74",
   "metadata": {},
   "source": [
    "# Summary\n",
    "\n",
    "Clearly, we are only just scratching the surface of scientific computing in python. There are many more libraries and many more functions in these libraries. The best way to learn is to play around with them and see what you can do.\n",
    "\n",
    "Methods of this \"playing around\" include:\n",
    "- reading the docs to see what is out there\n",
    "- doing something like ``import sympy.combinators as comb`` and then typing ``comb.<tab>`` to see what is available\n",
    "\n",
    "But you can also use CoPilot to make suggestions that you can then see if they word. Here's an example, where all the bullets in the list below were auto generated, and the line above it is the prompt I gave.\n",
    "\n",
    "Packages in python to do group theory include:\n",
    "- [sympy.combinatorics](https://docs.sympy.org/latest/modules/combinatorics/index.html)\n",
    "- [sympy.group](https://docs.sympy.org/latest/modules/group/index.html)\n",
    "- [sympy.algebras](https://docs.sympy.org/latest/modules/algebras/index.html)\n",
    "- [sympy.liealgebras](https://docs.sympy.org/latest/modules/liealgebras/index.html)\n",
    "\n",
    "See, even I just learned ``sympy`` has Lie alebgra support! We use this all the time in high energy theory. Let's try it just for fun\n"
   ]
  },
  {
   "cell_type": "code",
   "execution_count": null,
   "id": "bd4eb98e",
   "metadata": {},
   "outputs": [],
   "source": [
    "import sympy.liealgebras as lie"
   ]
  },
  {
   "cell_type": "code",
   "execution_count": null,
   "id": "52fffc33",
   "metadata": {},
   "outputs": [],
   "source": [
    "e8 = lie.cartan_type.CartanType(\"E8\")"
   ]
  },
  {
   "cell_type": "code",
   "execution_count": null,
   "id": "2e59399f",
   "metadata": {},
   "outputs": [
    {
     "data": {
      "text/plain": [
       "'        2\\n        0\\n        |\\n        |\\n0---0---0---0---0---0---0\\n1   3   4   5   6   7   8'"
      ]
     },
     "execution_count": 101,
     "metadata": {},
     "output_type": "execute_result"
    }
   ],
   "source": [
    "e8.dynkin_diagram()"
   ]
  },
  {
   "cell_type": "code",
   "execution_count": null,
   "id": "657f8468",
   "metadata": {},
   "outputs": [
    {
     "name": "stdout",
     "output_type": "stream",
     "text": [
      "        2\n",
      "        0\n",
      "        |\n",
      "        |\n",
      "0---0---0---0---0---0---0\n",
      "1   3   4   5   6   7   8\n"
     ]
    }
   ],
   "source": [
    "dynk_str = e8.dynkin_diagram()\n",
    "print(dynk_str)"
   ]
  },
  {
   "cell_type": "markdown",
   "id": "2cf0d789",
   "metadata": {},
   "source": [
    "Essential libraries within scipy are:\n",
    "- [scipy.special](https://docs.scipy.org/doc/scipy/reference/special.html)\n",
    "- [scipy.integrate](https://docs.scipy.org/doc/scipy/reference/integrate.html)\n",
    "- [scipy.optimize](https://docs.scipy.org/doc/scipy/reference/optimize.html)"
   ]
  },
  {
   "cell_type": "markdown",
   "id": "7e67a061",
   "metadata": {},
   "source": []
  }
 ],
 "metadata": {
  "kernelspec": {
   "display_name": "Python 3 (ipykernel)",
   "language": "python",
   "name": "python3"
  },
  "language_info": {
   "codemirror_mode": {
    "name": "ipython",
    "version": 3
   },
   "file_extension": ".py",
   "mimetype": "text/x-python",
   "name": "python",
   "nbconvert_exporter": "python",
   "pygments_lexer": "ipython3",
   "version": "3.11.4"
  }
 },
 "nbformat": 4,
 "nbformat_minor": 5
}
