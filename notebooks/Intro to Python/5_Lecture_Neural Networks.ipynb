{
    "cells": [
        {
            "cell_type": "markdown",
            "metadata": {},
            "source": [
                "# Neural Networks\n",
                "\n",
                "Neural networks are the workhorse of breakthroughs in machine learning in the last decade. The reason for this is that they are able to learn complex non-linear relationships between inputs and outputs. In this notebook, we will explore the basics of neural networks and how to implement them in Python.\n",
                "\n",
                "For simplicity, we'll use so-called fully connected deep neural networks. It sounds mysterios, but it's just a function, given by \n",
                "\n",
                "$y = f(x) = \\sigma(W_2 \\sigma(W_1 x + b_1) + b_2)$\n",
                "\n",
                "where $x$ is the input, $y$ is the output, $W_1$ and $W_2$ are matrices of weights, $b_1$ and $b_2$ are vectors of biases, and $\\sigma$ is a non-linear function called the activation function. The activation function is applied element-wise to its input.  The number of layers in the network is the depth of the network, and the number of neurons in each layer is the width of the network. The number of neurons in the input layer is the dimensionality of the input, and the number of neurons in the output layer is the dimensionality of the output.\n",
                "\n",
                "The weights and biases are the parameters of the neural network. When the neural network is initialized on your computer these are drawn randomly from a distribution, but the process of machine learning involves some optimization process on the parameters to achieve some goal -- winning at chess, generating fake images of galaxies, classifying phases of matter, etc etc.  Parameters that are not updated during learning are called hyperparameters. The depth and width of the network are hyperparameters in this example."
            ]
        },
        {
            "cell_type": "markdown",
            "metadata": {},
            "source": [
                "# Jax\n",
                "\n",
                "The libraries we'll use for neural networks are `jax` + `flax`. `jax` is a library for automatic differentiation and vectorization, and `flax` is a library for neural networks built on top of `jax`.  `jax` is a bit like `numpy` but with automatic differentiation.  Other very popular neural network libraries include `tensorflow` and `pytorch`.\n",
                "\n",
                "There are a few essential functions / features in jax that you have to get used to before you worry about neural networks. They are \n",
                "- `jax.numpy` which is a version of `numpy` that can be differentiated\n",
                "- `jax.vmap` which is a function that vectorizes a function\n",
                "- `jax.grad` which is a function that computes the gradient of a function\n",
                "- `jax.jit` which is a function that compiles a function for faster execution"
            ]
        },
        {
            "cell_type": "code",
            "execution_count": 2,
            "metadata": {},
            "outputs": [
                {
                    "name": "stdout",
                    "output_type": "stream",
                    "text": [
                        "Requirement already satisfied: jax in /home/jim/anaconda3/envs/COMP/lib/python3.11/site-packages (0.4.14)\n",
                        "Requirement already satisfied: jaxlib in /home/jim/anaconda3/envs/COMP/lib/python3.11/site-packages (0.4.14)\n",
                        "Requirement already satisfied: flax in /home/jim/anaconda3/envs/COMP/lib/python3.11/site-packages (0.7.4)\n",
                        "Requirement already satisfied: ml-dtypes>=0.2.0 in /home/jim/anaconda3/envs/COMP/lib/python3.11/site-packages (from jax) (0.2.0)\n",
                        "Requirement already satisfied: numpy>=1.22 in /home/jim/anaconda3/envs/COMP/lib/python3.11/site-packages (from jax) (1.25.2)\n",
                        "Requirement already satisfied: opt-einsum in /home/jim/anaconda3/envs/COMP/lib/python3.11/site-packages (from jax) (3.3.0)\n",
                        "Requirement already satisfied: scipy>=1.7 in /home/jim/anaconda3/envs/COMP/lib/python3.11/site-packages (from jax) (1.11.2)\n",
                        "Requirement already satisfied: msgpack in /home/jim/anaconda3/envs/COMP/lib/python3.11/site-packages (from flax) (1.0.5)\n",
                        "Requirement already satisfied: optax in /home/jim/anaconda3/envs/COMP/lib/python3.11/site-packages (from flax) (0.1.7)\n",
                        "Requirement already satisfied: orbax-checkpoint in /home/jim/anaconda3/envs/COMP/lib/python3.11/site-packages (from flax) (0.3.5)\n",
                        "Requirement already satisfied: tensorstore in /home/jim/anaconda3/envs/COMP/lib/python3.11/site-packages (from flax) (0.1.43)\n",
                        "Requirement already satisfied: rich>=11.1 in /home/jim/anaconda3/envs/COMP/lib/python3.11/site-packages (from flax) (13.5.3)\n",
                        "Requirement already satisfied: typing-extensions>=4.2 in /home/jim/anaconda3/envs/COMP/lib/python3.11/site-packages (from flax) (4.8.0)\n",
                        "Requirement already satisfied: PyYAML>=5.4.1 in /home/jim/anaconda3/envs/COMP/lib/python3.11/site-packages (from flax) (6.0.1)\n",
                        "Requirement already satisfied: markdown-it-py>=2.2.0 in /home/jim/anaconda3/envs/COMP/lib/python3.11/site-packages (from rich>=11.1->flax) (3.0.0)\n",
                        "Requirement already satisfied: pygments<3.0.0,>=2.13.0 in /home/jim/anaconda3/envs/COMP/lib/python3.11/site-packages (from rich>=11.1->flax) (2.16.1)\n",
                        "Requirement already satisfied: absl-py>=0.7.1 in /home/jim/anaconda3/envs/COMP/lib/python3.11/site-packages (from optax->flax) (1.4.0)\n",
                        "Requirement already satisfied: chex>=0.1.5 in /home/jim/anaconda3/envs/COMP/lib/python3.11/site-packages (from optax->flax) (0.1.82)\n",
                        "Requirement already satisfied: etils[epath,epy] in /home/jim/anaconda3/envs/COMP/lib/python3.11/site-packages (from orbax-checkpoint->flax) (1.4.1)\n",
                        "Requirement already satisfied: nest_asyncio in /home/jim/anaconda3/envs/COMP/lib/python3.11/site-packages (from orbax-checkpoint->flax) (1.5.7)\n",
                        "Requirement already satisfied: protobuf in /home/jim/anaconda3/envs/COMP/lib/python3.11/site-packages (from orbax-checkpoint->flax) (4.24.3)\n",
                        "Requirement already satisfied: toolz>=0.9.0 in /home/jim/anaconda3/envs/COMP/lib/python3.11/site-packages (from chex>=0.1.5->optax->flax) (0.12.0)\n",
                        "Requirement already satisfied: mdurl~=0.1 in /home/jim/anaconda3/envs/COMP/lib/python3.11/site-packages (from markdown-it-py>=2.2.0->rich>=11.1->flax) (0.1.2)\n",
                        "Requirement already satisfied: importlib_resources in /home/jim/anaconda3/envs/COMP/lib/python3.11/site-packages (from etils[epath,epy]->orbax-checkpoint->flax) (6.0.1)\n",
                        "Requirement already satisfied: zipp in /home/jim/anaconda3/envs/COMP/lib/python3.11/site-packages (from etils[epath,epy]->orbax-checkpoint->flax) (3.17.0)\n"
                    ]
                }
            ],
            "source": [
                "!pip install jax jaxlib flax"
            ]
        },
        {
            "cell_type": "code",
            "execution_count": 3,
            "metadata": {},
            "outputs": [],
            "source": [
                "import jax.numpy as jnp\n",
                "from jax import grad, vmap, jit\n",
                "import math"
            ]
        },
        {
            "cell_type": "markdown",
            "metadata": {},
            "source": [
                "Let's check out `grad`, which we've seen previously."
            ]
        },
        {
            "cell_type": "code",
            "execution_count": 4,
            "metadata": {},
            "outputs": [
                {
                    "name": "stderr",
                    "output_type": "stream",
                    "text": [
                        "No GPU/TPU found, falling back to CPU. (Set TF_CPP_MIN_LOG_LEVEL=0 and rerun for more info.)\n"
                    ]
                },
                {
                    "name": "stdout",
                    "output_type": "stream",
                    "text": [
                        "1.0\n"
                    ]
                }
            ],
            "source": [
                "grad_sin = grad(jnp.sin)\n",
                "print(grad_sin(2*math.pi))"
            ]
        },
        {
            "cell_type": "markdown",
            "metadata": {},
            "source": [
                "What if I want to compute the gradient of a function that takes a vector as input?  Let's try it out."
            ]
        },
        {
            "cell_type": "code",
            "execution_count": 5,
            "metadata": {},
            "outputs": [
                {
                    "name": "stdout",
                    "output_type": "stream",
                    "text": [
                        "[ 1.00000000e+00  7.07106781e-01  6.12323400e-17 -7.07106781e-01\n",
                        "  6.12323400e-17]\n"
                    ]
                }
            ],
            "source": [
                "grad_vec_input = vmap(grad_sin)\n",
                "print(grad_vec_input(jnp.array([0., math.pi/4, math.pi/2, 3*math.pi/4, math.pi/2])))"
            ]
        },
        {
            "cell_type": "markdown",
            "metadata": {},
            "source": [
                "This demonstrates `vmap`, which is a function that vectorizes a function. Note I can't use it on a single input. Can I use it on a vector with a slightly different shape?"
            ]
        },
        {
            "cell_type": "code",
            "execution_count": 6,
            "metadata": {},
            "outputs": [
                {
                    "ename": "TypeError",
                    "evalue": "Gradient only defined for scalar-output functions. Output had shape: (1,).",
                    "output_type": "error",
                    "traceback": [
                        "\u001b[0;31m---------------------------------------------------------------------------\u001b[0m",
                        "\u001b[0;31mTypeError\u001b[0m                                 Traceback (most recent call last)",
                        "\u001b[1;32m/home/jim/Dropbox/Documents/Job Related/Teaching/comp_phys/notebooks/Intro to Python/5_Lecture_Neural Networks.ipynb Cell 10\u001b[0m line \u001b[0;36m1\n\u001b[0;32m----> <a href='vscode-notebook-cell:/home/jim/Dropbox/Documents/Job%20Related/Teaching/comp_phys/notebooks/Intro%20to%20Python/5_Lecture_Neural%20Networks.ipynb#X12sZmlsZQ%3D%3D?line=0'>1</a>\u001b[0m \u001b[39mprint\u001b[39m(grad_vec_input(jnp\u001b[39m.\u001b[39;49marray([[\u001b[39m0.\u001b[39;49m], [math\u001b[39m.\u001b[39;49mpi\u001b[39m/\u001b[39;49m\u001b[39m4\u001b[39;49m], [math\u001b[39m.\u001b[39;49mpi\u001b[39m/\u001b[39;49m\u001b[39m2\u001b[39;49m],[ \u001b[39m3\u001b[39;49m\u001b[39m*\u001b[39;49mmath\u001b[39m.\u001b[39;49mpi\u001b[39m/\u001b[39;49m\u001b[39m4\u001b[39;49m], [math\u001b[39m.\u001b[39;49mpi\u001b[39m/\u001b[39;49m\u001b[39m2\u001b[39;49m]])))\n",
                        "    \u001b[0;31m[... skipping hidden 7 frame]\u001b[0m\n",
                        "File \u001b[0;32m~/anaconda3/envs/COMP/lib/python3.11/site-packages/jax/_src/api.py:765\u001b[0m, in \u001b[0;36m_check_scalar\u001b[0;34m(x)\u001b[0m\n\u001b[1;32m    763\u001b[0m \u001b[39mif\u001b[39;00m \u001b[39misinstance\u001b[39m(aval, ShapedArray):\n\u001b[1;32m    764\u001b[0m   \u001b[39mif\u001b[39;00m aval\u001b[39m.\u001b[39mshape \u001b[39m!=\u001b[39m ():\n\u001b[0;32m--> 765\u001b[0m     \u001b[39mraise\u001b[39;00m \u001b[39mTypeError\u001b[39;00m(msg(\u001b[39mf\u001b[39m\u001b[39m\"\u001b[39m\u001b[39mhad shape: \u001b[39m\u001b[39m{\u001b[39;00maval\u001b[39m.\u001b[39mshape\u001b[39m}\u001b[39;00m\u001b[39m\"\u001b[39m))\n\u001b[1;32m    766\u001b[0m \u001b[39melse\u001b[39;00m:\n\u001b[1;32m    767\u001b[0m   \u001b[39mraise\u001b[39;00m \u001b[39mTypeError\u001b[39;00m(msg(\u001b[39mf\u001b[39m\u001b[39m\"\u001b[39m\u001b[39mhad abstract value \u001b[39m\u001b[39m{\u001b[39;00maval\u001b[39m}\u001b[39;00m\u001b[39m\"\u001b[39m))\n",
                        "\u001b[0;31mTypeError\u001b[0m: Gradient only defined for scalar-output functions. Output had shape: (1,)."
                    ]
                }
            ],
            "source": [
                "print(grad_vec_input(jnp.array([[0.], [math.pi/4], [math.pi/2],[ 3*math.pi/4], [math.pi/2]])))"
            ]
        },
        {
            "cell_type": "code",
            "execution_count": null,
            "metadata": {},
            "outputs": [
                {
                    "name": "stdout",
                    "output_type": "stream",
                    "text": [
                        "[0.         0.70710678 1.         0.70710678 1.        ]\n"
                    ]
                }
            ],
            "source": [
                "squeezed_sin = lambda x: jnp.sin(x).squeeze()\n",
                "grad_vec_input_take2 = vmap(squeezed_sin)\n",
                "print(grad_vec_input_take2(jnp.array([[0.], [math.pi/4], [math.pi/2],[ 3*math.pi/4], [math.pi/2]])))"
            ]
        },
        {
            "cell_type": "markdown",
            "metadata": {},
            "source": [
                "What's the difference? One gives a scalar on this input, the other technically does not even though it has the same numbers in it. It's about the shape."
            ]
        },
        {
            "cell_type": "code",
            "execution_count": null,
            "metadata": {},
            "outputs": [
                {
                    "data": {
                        "text/plain": [
                            "(5,)"
                        ]
                    },
                    "execution_count": 7,
                    "metadata": {},
                    "output_type": "execute_result"
                }
            ],
            "source": [
                "squeezed_sin(jnp.array([[0.], [math.pi/4], [math.pi/2],[ 3*math.pi/4], [math.pi/2]])).shape"
            ]
        },
        {
            "cell_type": "code",
            "execution_count": 7,
            "metadata": {},
            "outputs": [
                {
                    "data": {
                        "text/plain": [
                            "(5, 1)"
                        ]
                    },
                    "execution_count": 7,
                    "metadata": {},
                    "output_type": "execute_result"
                }
            ],
            "source": [
                "jnp.sin(jnp.array([[0.], [math.pi/4], [math.pi/2],[ 3*math.pi/4], [math.pi/2]])).shape"
            ]
        },
        {
            "cell_type": "markdown",
            "metadata": {},
            "source": [
                "The vmap knows what to do with the first index. It's the second index that is the issue here."
            ]
        },
        {
            "cell_type": "markdown",
            "metadata": {},
            "source": [
                "### A Toy Neural Network: Linear Regression\n",
                "\n",
                "A neural network is just a function with parameters!? That means we know them from middle school: \n",
                "\n",
                "$y=mx + b$ \n",
                "\n",
                "is a function with parameters. This is an extremely simple neural network, and we wish to remind ourselves of the basic training scheme, using `jax` to do linear regression.\n",
                "\n",
                "First we generate some noise data around the line\n",
                "\n",
                "$y=10 x + 4$"
            ]
        },
        {
            "cell_type": "code",
            "execution_count": 8,
            "metadata": {},
            "outputs": [
                {
                    "data": {
                        "text/plain": [
                            "<matplotlib.collections.PathCollection at 0x7f47305f7e50>"
                        ]
                    },
                    "execution_count": 8,
                    "metadata": {},
                    "output_type": "execute_result"
                },
                {
                    "data": {
                        "image/png": "[encoded data removed]",
                        "text/plain": [
                            "<Figure size 320x240 with 1 Axes>"
                        ]
                    },
                    "metadata": {},
                    "output_type": "display_data"
                }
            ],
            "source": [
                "import numpy as np\n",
                "import matplotlib.pyplot as plt\n",
                "import matplotlib\n",
                "\n",
                "matplotlib.rcParams['figure.dpi'] = 50\n",
                "\n",
                "num_points = 25\n",
                "\n",
                "xs = np.random.normal(size=(num_points, 1))\n",
                "noise = np.random.normal(scale=.5, size=(num_points, 1))\n",
                "ys = 10 * xs + 4 + noise\n",
                "\n",
                "plt.scatter(xs,ys)"
            ]
        },
        {
            "cell_type": "markdown",
            "metadata": {},
            "source": [
                "Imagine that we didn't generate this data ourselves, instead that some experiment gave it to us. We want to fit a model to it. In this case we know \n",
                "\n",
                "$f(x) = mx + b$ \n",
                "\n",
                "is a good model, but a prior in an experimental setup we wouldn't know that. Still, let's proceed, by defining the model itself."
            ]
        },
        {
            "cell_type": "code",
            "execution_count": 9,
            "metadata": {},
            "outputs": [],
            "source": [
                "def f(theta, x):\n",
                "    m, b = theta\n",
                "    return m * x + b"
            ]
        },
        {
            "cell_type": "markdown",
            "metadata": {},
            "source": [
                "Now, for any specific values of $m$ and $b$, $f(x)$ makes predictions, and we want to know whether those predictions are good or bad relative to the ground truth values encoded in the variable `ys`. For that, we need a loss function, we'll use mean-squared error (MSE)."
            ]
        },
        {
            "cell_type": "code",
            "execution_count": 10,
            "metadata": {},
            "outputs": [],
            "source": [
                "def mse(theta, x, y):\n",
                "    return jnp.mean((y - f(theta, x))**2)"
            ]
        },
        {
            "cell_type": "markdown",
            "metadata": {},
            "source": [
                "We want to train this function to make better predictions, i.e. we want to move in parameter space to make the predictions better. For that, we use a gradient descent update."
            ]
        },
        {
            "cell_type": "code",
            "execution_count": 11,
            "metadata": {},
            "outputs": [],
            "source": [
                "def update(theta, x, y, lr = 0.1):\n",
                "    loss = mse(theta, x, y)\n",
                "    grad_loss = grad(mse)(theta, x, y)\n",
                "    new_params = theta - lr * grad_loss\n",
                "    return loss, new_params"
            ]
        },
        {
            "cell_type": "markdown",
            "metadata": {},
            "source": [
                "Now that we have our data, defined a parametric model that we want to model the data with, and defined a loss function, we can train the model. We'll do this in a loop, and plot the loss as a function of the number of training steps.\n",
                "\n",
                "This loop is the 'train loop.' It starts with the definition of an initial point in model space, i.e., an initial value for the parameters theta."
            ]
        },
        {
            "cell_type": "code",
            "execution_count": null,
            "metadata": {},
            "outputs": [],
            "source": []
        },
        {
            "cell_type": "code",
            "execution_count": 12,
            "metadata": {},
            "outputs": [
                {
                    "name": "stdout",
                    "output_type": "stream",
                    "text": [
                        "Loss at epoch 0 is 99.253\n",
                        "Loss at epoch 5 is 16.296\n",
                        "Loss at epoch 10 is 2.828\n",
                        "Loss at epoch 15 is 0.641\n",
                        "Loss at epoch 20 is 0.286\n",
                        "Loss at epoch 25 is 0.229\n",
                        "Loss at epoch 30 is 0.219\n",
                        "Loss at epoch 35 is 0.218\n",
                        "Loss at epoch 40 is 0.217\n",
                        "Loss at epoch 45 is 0.217\n",
                        "Loss at epoch 50 is 0.217\n"
                    ]
                },
                {
                    "data": {
                        "text/plain": [
                            "<matplotlib.collections.PathCollection at 0x7f473013ab90>"
                        ]
                    },
                    "execution_count": 12,
                    "metadata": {},
                    "output_type": "execute_result"
                },
                {
                    "data": {
                        "image/png": "[encoded data removed]",
                        "text/plain": [
                            "<Figure size 320x240 with 1 Axes>"
                        ]
                    },
                    "metadata": {},
                    "output_type": "display_data"
                }
            ],
            "source": [
                "theta = jnp.array([0.,0.]) # let params be origin at init\n",
                "\n",
                "num_epochs, losses = 50, []\n",
                "for epoch in range(num_epochs+1):\n",
                "    loss, theta = update(theta, xs, ys)\n",
                "    if epoch % 5 == 0: print(f\"Loss at epoch {epoch} is {loss:.3f}\")\n",
                "    losses.append(loss)\n",
                "\n",
                "plt.xscale('log')\n",
                "plt.yscale('log')\n",
                "plt.scatter(list(range(num_epochs+1)), losses)"
            ]
        },
        {
            "cell_type": "markdown",
            "metadata": {},
            "source": [
                "Loss looks good. But is it the model we hoped for? Let's check the params."
            ]
        },
        {
            "cell_type": "code",
            "execution_count": 13,
            "metadata": {},
            "outputs": [
                {
                    "data": {
                        "text/plain": [
                            "Array([10.13766306,  4.04465448], dtype=float64)"
                        ]
                    },
                    "execution_count": 13,
                    "metadata": {},
                    "output_type": "execute_result"
                }
            ],
            "source": [
                "theta"
            ]
        },
        {
            "cell_type": "markdown",
            "metadata": {},
            "source": [
                "### Toy Model: Mapping to Unit Circle\n",
                "\n"
            ]
        },
        {
            "cell_type": "markdown",
            "metadata": {},
            "source": [
                "Let's do another problem. We want to map a point in 2D to a point on the unit circle. This is a different sort of problem -- there isn't a 'ground truth' label that I'm trying to hit with my predictor. Instead, I'm trying to satisfy a constraint, that my function\n",
                "\n",
                "$f: \\mathbb{R}^2 \\rightarrow \\mathbb{R}^2$\n",
                "\n",
                "maps a point $x$ in the domain onto the unit circle. We'll impose this with a loss function\n",
                "\n",
                "$L = \\sum_i (f(x)\\cdot f(x) - 1)^2$\n",
                "\n",
                "Since $f$ is a model and therefore a function of parameters, $f=f_\\theta$, we want to find \n",
                "\n",
                "$\\theta^* = \\arg \\min_\\theta L(\\theta)$,\n",
                "\n",
                "the value that minimize the loss. \n",
                "\n",
                "Let's start with a linear model again, since it worked last time\n",
                "\n",
                "$f(x) = w \\cdot x$\n",
                "\n",
                "where $w$ and $x$ are now a matrix and vector, respectively.\n"
            ]
        },
        {
            "cell_type": "code",
            "execution_count": 14,
            "metadata": {},
            "outputs": [],
            "source": [
                "def model(theta, x): # x has shape bi, b for batch, i for R2\n",
                "    w, B = theta # w has shape ji, b has shape j\n",
                "    return jnp.einsum('ji,bi->bj', w, x) \n",
                "\n",
                "def unit_circle_loss(theta,x):\n",
                "    fx = model(theta,x)\n",
                "    return jnp.mean((jnp.linalg.norm(fx, axis=1) - 1)**2)\n",
                "\n",
                "def update(theta, x, lr=0.1):\n",
                "    w, B = theta\n",
                "    loss = unit_circle_loss(theta, x)\n",
                "    grad_loss_w, grad_loss_B = grad(unit_circle_loss)(theta, x)\n",
                "    new_params = [w - lr * grad_loss_w, B - lr * grad_loss_B]\n",
                "    return loss, new_params\n",
                "    "
            ]
        },
        {
            "cell_type": "code",
            "execution_count": 15,
            "metadata": {},
            "outputs": [
                {
                    "name": "stdout",
                    "output_type": "stream",
                    "text": [
                        "0.5066139264858002\n",
                        "0.29582886769886446\n",
                        "0.23576991174807177\n",
                        "0.22436512554687946\n",
                        "0.22257146601216568\n",
                        "0.22228654068521644\n",
                        "0.22224094453479265\n",
                        "0.2222336085354554\n",
                        "0.2222324236648921\n",
                        "0.2222322317613541\n",
                        "0.2222322006192674\n"
                    ]
                },
                {
                    "data": {
                        "text/plain": [
                            "<matplotlib.collections.PathCollection at 0x7f47105d6610>"
                        ]
                    },
                    "execution_count": 15,
                    "metadata": {},
                    "output_type": "execute_result"
                },
                {
                    "data": {
                        "image/png": "[encoded data removed]",
                        "text/plain": [
                            "<Figure size 320x240 with 1 Axes>"
                        ]
                    },
                    "metadata": {},
                    "output_type": "display_data"
                }
            ],
            "source": [
                "theta = [jnp.array([[0.5,0.5],[0.5,0.5]]), jnp.array([0.5,0.5])]\n",
                "\n",
                "num_points = 37\n",
                "\n",
                "xs = np.random.normal(size=(num_points, 2))\n",
                "\n",
                "num_epochs, losses = 50, []\n",
                "\n",
                "for epoch in range(num_epochs+1):\n",
                "    loss, theta = update(theta, xs)\n",
                "    if epoch % 5 == 0: print(loss)\n",
                "    losses.append(loss)\n",
                "\n",
                "plt.xscale('log')\n",
                "plt.yscale('log')\n",
                "plt.scatter(list(range(num_epochs+1)), losses)"
            ]
        },
        {
            "cell_type": "markdown",
            "metadata": {},
            "source": [
                "So we see **a little** bit of improvement, but not that much really. We should be able to see that it's not that great with our naked eye!"
            ]
        },
        {
            "cell_type": "code",
            "execution_count": 16,
            "metadata": {},
            "outputs": [
                {
                    "data": {
                        "text/plain": [
                            "<matplotlib.collections.PathCollection at 0x7f4710344ad0>"
                        ]
                    },
                    "execution_count": 16,
                    "metadata": {},
                    "output_type": "execute_result"
                },
                {
                    "data": {
                        "image/png": "[encoded data removed]",
                        "text/plain": [
                            "<Figure size 320x240 with 1 Axes>"
                        ]
                    },
                    "metadata": {},
                    "output_type": "display_data"
                }
            ],
            "source": [
                "fx = model(theta, xs)\n",
                "plt.scatter(fx[:,0], fx[:,1])"
            ]
        },
        {
            "cell_type": "markdown",
            "metadata": {},
            "source": [
                "This is clearly not lying on the unit circle! It shouldn't surprise us, because this model is laughably simple and simply shouldn't be able to work for this problem.\n",
                "\n",
                "But what if we use a more powerful model, a non-trivial feedforward neural network?"
            ]
        },
        {
            "cell_type": "code",
            "execution_count": 17,
            "metadata": {},
            "outputs": [],
            "source": [
                "def model(theta,x): \n",
                "    w0, b0, w1, b1 = theta \n",
                "    z = jnp.einsum('ji, bi-> bj', w0, x) + b0 # preactivation\n",
                "    h = jnp.maximum(z, 0) # act with activation, ReLU (e.g. could choose tanh, arctan, etc. h is postactivation\n",
                "    output = jnp.einsum('ji, bi->bj', w1, h) + b1 \n",
                "    return output\n",
                "\n",
                "def update(theta, x, lr = 0.001):\n",
                "    w0, b0, w1, b1 = theta\n",
                "    loss = unit_circle_loss(theta, x)\n",
                "    grad_loss_w0, grad_loss_b0, grad_loss_w1, grad_loss_b1 = grad(unit_circle_loss)(theta, x)\n",
                "    new_params = [w0 - lr*grad_loss_w0, b0 - lr*grad_loss_b0, w1 - lr*grad_loss_w1, b1 - lr*grad_loss_b1]\n",
                "    return loss, new_params\n"
            ]
        },
        {
            "cell_type": "code",
            "execution_count": 18,
            "metadata": {},
            "outputs": [
                {
                    "data": {
                        "image/png": "[encoded data removed]",
                        "text/plain": [
                            "<Figure size 320x240 with 1 Axes>"
                        ]
                    },
                    "metadata": {},
                    "output_type": "display_data"
                }
            ],
            "source": [
                "num_points = 100\n",
                "xs = np.random.normal(size=(num_points, 2))\n",
                "d, width = xs.shape[1], 1024\n",
                "theta = [np.random.normal(scale=1, size=(width,d)), np.zeros(width), np.random.normal(scale=1, size=(2,width)), np.zeros(2)]\n",
                "\n",
                "fx = model(theta,xs) # using the untrained theta\n",
                "plt.scatter(fx[:,0], fx[:,1])\n",
                "plt.scatter(xs[:,0], xs[:,1])\n",
                "plt.show()\n"
            ]
        },
        {
            "cell_type": "code",
            "execution_count": 19,
            "metadata": {},
            "outputs": [
                {
                    "name": "stdout",
                    "output_type": "stream",
                    "text": [
                        "0 4631.528180093154\n"
                    ]
                },
                {
                    "data": {
                        "image/png": "[encoded data removed]",
                        "text/plain": [
                            "<Figure size 320x240 with 1 Axes>"
                        ]
                    },
                    "metadata": {},
                    "output_type": "display_data"
                },
                {
                    "name": "stdout",
                    "output_type": "stream",
                    "text": [
                        "1000 0.019151545746062034\n"
                    ]
                },
                {
                    "data": {
                        "image/png": "[encoded data removed]",
                        "text/plain": [
                            "<Figure size 320x240 with 1 Axes>"
                        ]
                    },
                    "metadata": {},
                    "output_type": "display_data"
                },
                {
                    "name": "stdout",
                    "output_type": "stream",
                    "text": [
                        "2000 0.007388416885408264\n"
                    ]
                },
                {
                    "data": {
                        "image/png": "[encoded data removed]",
                        "text/plain": [
                            "<Figure size 320x240 with 1 Axes>"
                        ]
                    },
                    "metadata": {},
                    "output_type": "display_data"
                },
                {
                    "name": "stdout",
                    "output_type": "stream",
                    "text": [
                        "3000 0.003696977272822136\n"
                    ]
                },
                {
                    "data": {
                        "image/png": "[encoded data removed]",
                        "text/plain": [
                            "<Figure size 320x240 with 1 Axes>"
                        ]
                    },
                    "metadata": {},
                    "output_type": "display_data"
                },
                {
                    "name": "stdout",
                    "output_type": "stream",
                    "text": [
                        "4000 0.0021255004391473905\n"
                    ]
                },
                {
                    "data": {
                        "image/png": "[encoded data removed]",
                        "text/plain": [
                            "<Figure size 320x240 with 1 Axes>"
                        ]
                    },
                    "metadata": {},
                    "output_type": "display_data"
                },
                {
                    "name": "stdout",
                    "output_type": "stream",
                    "text": [
                        "5000 0.0013467443303640265\n"
                    ]
                },
                {
                    "data": {
                        "image/png": "[encoded data removed]",
                        "text/plain": [
                            "<Figure size 320x240 with 1 Axes>"
                        ]
                    },
                    "metadata": {},
                    "output_type": "display_data"
                },
                {
                    "name": "stdout",
                    "output_type": "stream",
                    "text": [
                        "6000 0.0008903451674788415\n"
                    ]
                },
                {
                    "data": {
                        "image/png": "[encoded data removed]",
                        "text/plain": [
                            "<Figure size 320x240 with 1 Axes>"
                        ]
                    },
                    "metadata": {},
                    "output_type": "display_data"
                },
                {
                    "name": "stdout",
                    "output_type": "stream",
                    "text": [
                        "7000 0.0006364092780046376\n"
                    ]
                },
                {
                    "data": {
                        "image/png": "[encoded data removed]",
                        "text/plain": [
                            "<Figure size 320x240 with 1 Axes>"
                        ]
                    },
                    "metadata": {},
                    "output_type": "display_data"
                },
                {
                    "name": "stdout",
                    "output_type": "stream",
                    "text": [
                        "8000 0.0004782533364287864\n"
                    ]
                },
                {
                    "data": {
                        "image/png": "[encoded data removed]",
                        "text/plain": [
                            "<Figure size 320x240 with 1 Axes>"
                        ]
                    },
                    "metadata": {},
                    "output_type": "display_data"
                },
                {
                    "name": "stdout",
                    "output_type": "stream",
                    "text": [
                        "9000 0.00036914167523898703\n"
                    ]
                },
                {
                    "data": {
                        "image/png": "[encoded data removed]",
                        "text/plain": [
                            "<Figure size 320x240 with 1 Axes>"
                        ]
                    },
                    "metadata": {},
                    "output_type": "display_data"
                },
                {
                    "name": "stdout",
                    "output_type": "stream",
                    "text": [
                        "10000 0.00029745434130316954\n"
                    ]
                },
                {
                    "data": {
                        "image/png": "[encoded data removed]",
                        "text/plain": [
                            "<Figure size 320x240 with 1 Axes>"
                        ]
                    },
                    "metadata": {},
                    "output_type": "display_data"
                },
                {
                    "name": "stdout",
                    "output_type": "stream",
                    "text": [
                        "[Array(0.50661393, dtype=float64), Array(0.4684173, dtype=float64), Array(0.42248752, dtype=float64), Array(0.37457362, dtype=float64), Array(0.32790396, dtype=float64), Array(0.29582887, dtype=float64), Array(0.27376875, dtype=float64), Array(0.25858638, dtype=float64), Array(0.24813077, dtype=float64), Array(0.24092594, dtype=float64), Array(0.23576991, dtype=float64), Array(0.23157848, dtype=float64), Array(0.22868785, dtype=float64), Array(0.22669325, dtype=float64), Array(0.22531623, dtype=float64), Array(0.22436513, dtype=float64), Array(0.2237079, dtype=float64), Array(0.22325355, dtype=float64), Array(0.22293932, dtype=float64), Array(0.22272193, dtype=float64), Array(0.22257147, dtype=float64), Array(0.2224673, dtype=float64), Array(0.22239515, dtype=float64), Array(0.22234518, dtype=float64), Array(0.22231055, dtype=float64), Array(0.22228654, dtype=float64), Array(0.2222699, dtype=float64), Array(0.22225836, dtype=float64), Array(0.22225035, dtype=float64), Array(0.2222448, dtype=float64), Array(0.22224094, dtype=float64), Array(0.22223827, dtype=float64), Array(0.22223641, dtype=float64), Array(0.22223512, dtype=float64), Array(0.22223423, dtype=float64), Array(0.22223361, dtype=float64), Array(0.22223318, dtype=float64), Array(0.22223288, dtype=float64), Array(0.22223267, dtype=float64), Array(0.22223252, dtype=float64), Array(0.22223242, dtype=float64), Array(0.22223235, dtype=float64), Array(0.22223231, dtype=float64), Array(0.22223227, dtype=float64), Array(0.22223225, dtype=float64), Array(0.22223223, dtype=float64), Array(0.22223222, dtype=float64), Array(0.22223221, dtype=float64), Array(0.22223221, dtype=float64), Array(0.2222322, dtype=float64), Array(0.2222322, dtype=float64), Array(4631.52818009, dtype=float64), Array(0.01915155, dtype=float64), Array(0.00738842, dtype=float64), Array(0.00369698, dtype=float64), Array(0.0021255, dtype=float64), Array(0.00134674, dtype=float64), Array(0.00089035, dtype=float64), Array(0.00063641, dtype=float64), Array(0.00047825, dtype=float64), Array(0.00036914, dtype=float64), Array(0.00029745, dtype=float64)]\n"
                    ]
                }
            ],
            "source": [
                "num_epochs, loss, thetas = 10000, [], []\n",
                "for epoch in range(num_epochs+1):\n",
                "    loss, theta = update(theta, xs)\n",
                "    if epoch % 1000 == 0: \n",
                "        thetas.append(theta)\n",
                "        losses.append(loss)\n",
                "        print(epoch, loss)\n",
                "        fx = model(thetas[-1], xs) \n",
                "        plt.scatter(fx[:,0], fx[:,1])\n",
                "        plt.scatter(xs[:,0], xs[:,1])\n",
                "        plt.show()\n",
                "\n",
                "print(losses)"
            ]
        },
        {
            "cell_type": "code",
            "execution_count": null,
            "metadata": {},
            "outputs": [],
            "source": []
        },
        {
            "cell_type": "markdown",
            "metadata": {},
            "source": [
                "Now: mapping things to the unit circle isnt the most useful thing in the world. But it's a good example of a problem that is hard to solve with a linear model, but easy to solve with a neural network.\n",
                "\n",
                "The point is that this map was *learned from a constraint*, and so you might use neural networks in other situations where you want to learn something satisfying a constraint, e.g. a solution to a diff eq.\n",
                "\n",
                "**Note:** All we plotted was train data. Does it generalize to other random draws?"
            ]
        },
        {
            "cell_type": "code",
            "execution_count": 20,
            "metadata": {},
            "outputs": [
                {
                    "data": {
                        "text/plain": [
                            "<matplotlib.collections.PathCollection at 0x7f4710120b10>"
                        ]
                    },
                    "execution_count": 20,
                    "metadata": {},
                    "output_type": "execute_result"
                },
                {
                    "data": {
                        "image/png": "[encoded data removed]",
                        "text/plain": [
                            "<Figure size 320x240 with 1 Axes>"
                        ]
                    },
                    "metadata": {},
                    "output_type": "display_data"
                }
            ],
            "source": [
                "xs_test = np.random.normal(size=(num_points, 2))\n",
                "fx = model(thetas[-1], xs_test)\n",
                "plt.scatter(fx[:,0], fx[:,1])"
            ]
        },
        {
            "cell_type": "code",
            "execution_count": null,
            "metadata": {},
            "outputs": [],
            "source": []
        },
        {
            "cell_type": "code",
            "execution_count": null,
            "metadata": {},
            "outputs": [],
            "source": []
        },
        {
            "cell_type": "markdown",
            "metadata": {},
            "source": [
                "We see it's ok on test points, but not perfect. This is called \"generalization gap\" or \"generalization error.\" It's a measure of how well the model generalizes to new data.\n",
                "\n",
                "In ML, we try to not have generalization gap, by training longer, clever choices, better optimizers, etc. Experimentally, e.g., I saw arctan activation was better on test! But not as good on train."
            ]
        },
        {
            "cell_type": "markdown",
            "metadata": {},
            "source": []
        },
        {
            "cell_type": "markdown",
            "metadata": {},
            "source": []
        },
        {
            "cell_type": "markdown",
            "metadata": {},
            "source": []
        }
    ],
    "metadata": {
        "kernelspec": {
            "display_name": "COMP",
            "language": "python",
            "name": "python3"
        },
        "language_info": {
            "codemirror_mode": {
                "name": "ipython",
                "version": 3
            },
            "file_extension": ".py",
            "mimetype": "text/x-python",
            "name": "python",
            "nbconvert_exporter": "python",
            "pygments_lexer": "ipython3",
            "version": "3.11.4"
        },
        "orig_nbformat": 4
    },
    "nbformat": 4,
    "nbformat_minor": 2
}
